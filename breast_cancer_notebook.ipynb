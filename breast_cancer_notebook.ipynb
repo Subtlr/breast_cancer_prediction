{
  "nbformat": 4,
  "nbformat_minor": 0,
  "metadata": {
    "colab": {
      "provenance": [],
      "gpuType": "T4",
      "authorship_tag": "ABX9TyN6Sv21EU+xjGLL4I5lVijq",
      "include_colab_link": true
    },
    "kernelspec": {
      "name": "python3",
      "display_name": "Python 3"
    },
    "language_info": {
      "name": "python"
    },
    "accelerator": "GPU"
  },
  "cells": [
    {
      "cell_type": "markdown",
      "metadata": {
        "id": "view-in-github",
        "colab_type": "text"
      },
      "source": [
        "<a href=\"https://colab.research.google.com/github/Subtlr/breast_cancer_prediction/blob/main/breast_cancer_notebook.ipynb\" target=\"_parent\"><img src=\"https://colab.research.google.com/assets/colab-badge.svg\" alt=\"Open In Colab\"/></a>"
      ]
    },
    {
      "cell_type": "markdown",
      "source": [
        "# Importing Data and Modules"
      ],
      "metadata": {
        "id": "xT1WApfMVtzd"
      }
    },
    {
      "cell_type": "code",
      "source": [
        "!pip install opendatasets --quiet"
      ],
      "metadata": {
        "id": "wGpba6Voz6__"
      },
      "execution_count": null,
      "outputs": []
    },
    {
      "cell_type": "code",
      "execution_count": null,
      "metadata": {
        "id": "CPGtOp0gPnv0"
      },
      "outputs": [],
      "source": [
        "import opendatasets as od"
      ]
    },
    {
      "cell_type": "code",
      "source": [
        "od.download(r\"https://www.kaggle.com/datasets/wasiqaliyasir/breast-cancer-dataset\")"
      ],
      "metadata": {
        "id": "OOgsKGVzQIrm"
      },
      "execution_count": null,
      "outputs": []
    },
    {
      "cell_type": "code",
      "source": [
        "import pandas as pd\n",
        "import numpy as np\n",
        "import matplotlib.pyplot as plt\n",
        "import seaborn as sns\n",
        "import sklearn as skl\n",
        "\n",
        "plt.style.use(\"dark_background\")"
      ],
      "metadata": {
        "id": "2bAz7EJ4Rj91"
      },
      "execution_count": null,
      "outputs": []
    },
    {
      "cell_type": "code",
      "source": [
        "df_unmodified = pd.read_csv(r\"/content/breast-cancer-dataset/Breast_cancer_dataset.csv\")"
      ],
      "metadata": {
        "id": "qjIEdSfHRTXe"
      },
      "execution_count": null,
      "outputs": []
    },
    {
      "cell_type": "code",
      "source": [
        "df_unmodified"
      ],
      "metadata": {
        "id": "qWqs6nITR7cO"
      },
      "execution_count": null,
      "outputs": []
    },
    {
      "cell_type": "markdown",
      "source": [
        "# Data Preprocessing"
      ],
      "metadata": {
        "id": "zhtxFeGpVxvE"
      }
    },
    {
      "cell_type": "code",
      "source": [
        "df_unmodified.drop(columns='Unnamed: 32', inplace=True)"
      ],
      "metadata": {
        "id": "VZ6rBSg7RjN-"
      },
      "execution_count": null,
      "outputs": []
    },
    {
      "cell_type": "code",
      "source": [
        "df_unmodified.isna().sum()"
      ],
      "metadata": {
        "id": "nUlDhrz1RsSN"
      },
      "execution_count": null,
      "outputs": []
    },
    {
      "cell_type": "code",
      "source": [
        "X, y = df_unmodified.drop(columns=['diagnosis', 'id']), df_unmodified['diagnosis']"
      ],
      "metadata": {
        "id": "0ugu4WSWSCct"
      },
      "execution_count": null,
      "outputs": []
    },
    {
      "cell_type": "code",
      "source": [
        "y.value_counts()[\"B\"]"
      ],
      "metadata": {
        "id": "sEmtJMAPSYql"
      },
      "execution_count": null,
      "outputs": []
    },
    {
      "cell_type": "code",
      "source": [
        "import imblearn as imb"
      ],
      "metadata": {
        "id": "fcAJt0PTS2Sl"
      },
      "execution_count": null,
      "outputs": []
    },
    {
      "cell_type": "code",
      "source": [
        "def preprocess_data(X, y):\n",
        "  smote = imb.over_sampling.SMOTE(random_state=36)\n",
        "  X_resampled, y_resampled = smote.fit_resample(X, y)\n",
        "  print(f\"Class Amounts: {y_resampled.value_counts().iloc[0]} and {y_resampled.value_counts().iloc[1]}\")\n",
        "\n",
        "  X_train, X_test, y_train, y_test = skl.model_selection.train_test_split(X_resampled, y_resampled, test_size=0.2, random_state=36)\n",
        "  X_train, X_val, y_train, y_val = skl.model_selection.train_test_split(X_train, y_train, test_size=0.25, random_state=36)\n",
        "\n",
        "  return X_train, y_train, X_val, y_val, X_test, y_test"
      ],
      "metadata": {
        "id": "aZRm7i2tSbAV"
      },
      "execution_count": null,
      "outputs": []
    },
    {
      "cell_type": "code",
      "source": [
        "X_train, y_train, X_val, y_val, X_test, y_test = preprocess_data(X, y)"
      ],
      "metadata": {
        "id": "V--AnN2zTRsl"
      },
      "execution_count": null,
      "outputs": []
    },
    {
      "cell_type": "code",
      "source": [
        "def standardize_data(X_train, X_val, X_test):\n",
        "  scaler = skl.preprocessing.StandardScaler()\n",
        "\n",
        "  scaler.fit(X_train)\n",
        "  X_train = pd.DataFrame(scaler.transform(X_train), columns=X_train.columns)\n",
        "  X_val = pd.DataFrame(scaler.transform(X_val), columns=X_val.columns)\n",
        "  X_test = pd.DataFrame(scaler.transform(X_test), columns=X_test.columns)\n",
        "\n",
        "  return X_train, X_val, X_test"
      ],
      "metadata": {
        "id": "5xg03i8sTraU"
      },
      "execution_count": null,
      "outputs": []
    },
    {
      "cell_type": "code",
      "source": [
        "X_train, X_val, X_test = standardize_data(X_train, X_val, X_test)"
      ],
      "metadata": {
        "id": "aPFLR-uCUOoN"
      },
      "execution_count": null,
      "outputs": []
    },
    {
      "cell_type": "code",
      "source": [
        "X_train"
      ],
      "metadata": {
        "id": "68tLdPvSURxM"
      },
      "execution_count": null,
      "outputs": []
    },
    {
      "cell_type": "code",
      "source": [
        "plt.figure(figsize=(30,20))\n",
        "sns.heatmap(X_train.corr(), cmap=\"coolwarm\")"
      ],
      "metadata": {
        "id": "-lOrvkTmUWBs"
      },
      "execution_count": null,
      "outputs": []
    },
    {
      "cell_type": "code",
      "source": [
        "def combine_3_features(X_train, X_val, X_test, col1, col2, col3, delete:bool):\n",
        "  X_train[f'{col1}_{col2}_{col3}_mean'] = X_train[[col1, col2, col3]].mean(axis=1)\n",
        "  X_val[f'{col1}_{col2}_{col3}_mean'] = X_val[[col1, col2, col3]].mean(axis=1)\n",
        "  X_test[f'{col1}_{col2}_{col3}_mean'] = X_test[[col1, col2, col3]].mean(axis=1)\n",
        "\n",
        "  if delete == True:\n",
        "    X_train.drop(columns=[col1, col2, col3], inplace=True)\n",
        "    X_val.drop(columns=[col1, col2, col3], inplace=True)\n",
        "    X_test.drop(columns=[col1, col2, col3], inplace=True)\n",
        "  else: pass\n",
        "\n",
        "  return X_train, X_val, X_test"
      ],
      "metadata": {
        "id": "JWWc93blWDOs"
      },
      "execution_count": null,
      "outputs": []
    },
    {
      "cell_type": "code",
      "source": [
        "X_train, X_val, X_test = combine_3_features(X_train, X_val, X_test, 'radius_mean', 'perimeter_mean', 'area_mean', delete=True)\n",
        "X_train, X_val, X_test = combine_3_features(X_train, X_val, X_test, 'radius_worst', 'perimeter_worst', 'area_worst', delete=True)"
      ],
      "metadata": {
        "id": "MXuP8lT6XNck"
      },
      "execution_count": null,
      "outputs": []
    },
    {
      "cell_type": "code",
      "source": [
        "rename_hash = {\n",
        "    \"radius_mean_perimeter_mean_area_mean_mean\": \"rpa_mean\",\n",
        "    \"radius_worst_perimeter_worst_area_worst_mean\": \"rpa_worst\"\n",
        "}"
      ],
      "metadata": {
        "id": "AIL_xWS1X59s"
      },
      "execution_count": null,
      "outputs": []
    },
    {
      "cell_type": "code",
      "source": [
        "X_train.rename(columns=rename_hash, inplace=True)\n",
        "X_val.rename(columns=rename_hash, inplace=True)\n",
        "X_test.rename(columns=rename_hash, inplace=True)"
      ],
      "metadata": {
        "id": "IuW_BfiGYNrj"
      },
      "execution_count": null,
      "outputs": []
    },
    {
      "cell_type": "code",
      "source": [
        "X_train"
      ],
      "metadata": {
        "id": "ZyjMgfWMYReT"
      },
      "execution_count": null,
      "outputs": []
    },
    {
      "cell_type": "code",
      "source": [
        "plt.figure(figsize=(30,20))\n",
        "sns.heatmap(X_train.corr(), cmap=\"coolwarm\")"
      ],
      "metadata": {
        "id": "XnO2uNX7YTBk"
      },
      "execution_count": null,
      "outputs": []
    },
    {
      "cell_type": "markdown",
      "source": [
        "# Machine Learning"
      ],
      "metadata": {
        "id": "_kFjO4-cYbb7"
      }
    },
    {
      "cell_type": "markdown",
      "source": [
        "## Logistic Regression"
      ],
      "metadata": {
        "id": "vUnXrl3nYeZc"
      }
    },
    {
      "cell_type": "code",
      "source": [
        "X_train.shape"
      ],
      "metadata": {
        "id": "PCuoowu3Ycez"
      },
      "execution_count": null,
      "outputs": []
    },
    {
      "cell_type": "code",
      "source": [
        "logistician = skl.linear_model.LogisticRegressionCV(cv=5, scoring=\"recall\", verbose=True)"
      ],
      "metadata": {
        "id": "11Gb_GjsYkms"
      },
      "execution_count": null,
      "outputs": []
    },
    {
      "cell_type": "code",
      "source": [
        "logistician.fit(X_train, y_train)"
      ],
      "metadata": {
        "id": "tPbDDd_DY1Fs"
      },
      "execution_count": null,
      "outputs": []
    },
    {
      "cell_type": "code",
      "source": [
        "log_y_preds = logistician.predict(X_val)\n",
        "log_y_probas = logistician.predict_proba(X_val)"
      ],
      "metadata": {
        "id": "agr_nWAbZRcc"
      },
      "execution_count": null,
      "outputs": []
    },
    {
      "cell_type": "code",
      "source": [
        "log_betas = pd.DataFrame(logistician.coef_, columns=X_train.columns)\n",
        "log_betas.head()"
      ],
      "metadata": {
        "id": "dVE5b-EZZbyU"
      },
      "execution_count": null,
      "outputs": []
    },
    {
      "cell_type": "code",
      "source": [
        "plt.figure(figsize=(30,20))\n",
        "sns.barplot(data=log_betas.sort_values(by=0, axis=1), orient=\"h\")\n",
        "plt.grid(axis=\"x\", c=\"white\")\n",
        "plt.show()"
      ],
      "metadata": {
        "id": "FbJUTMwqZg5z"
      },
      "execution_count": null,
      "outputs": []
    },
    {
      "cell_type": "code",
      "metadata": {
        "id": "2d75566a"
      },
      "source": [
        "def model_evaluation(y_val, y_preds, y_probas):\n",
        "\n",
        "  # Evaluate the model on the validation set\n",
        "  log_precision = skl.metrics.precision_score(y_val, y_preds, pos_label='B') # Assuming 'M' is the positive class\n",
        "  log_recall = skl.metrics.recall_score(y_val, y_preds, pos_label='B')\n",
        "  log_f1 = skl.metrics.f1_score(y_val, y_preds, pos_label='B')\n",
        "  log_bceloss = skl.metrics.log_loss(y_val, y_probas)\n",
        "\n",
        "  print(f\"Validation Precision: {log_precision:.4f}\")\n",
        "  print(f\"Validation Recall: {log_recall:.4f}\")\n",
        "  print(f\"Validation F1-score: {log_f1:.4f}\")\n",
        "  print(f\"Validation BinaryCrossEntropy Loss: {log_bceloss:.4f}\")\n",
        "\n",
        "  # Display confusion matrix\n",
        "  log_conf_matrix = skl.metrics.confusion_matrix(y_val, y_preds, labels=['M', 'B'])\n",
        "  print(\"\\nConfusion Matrix:\")\n",
        "  print(log_conf_matrix) # Specify labels to ensure correct order\n",
        "\n",
        "  # Display classification report\n",
        "  print(\"\\nClassification Report:\")\n",
        "  print(skl.metrics.classification_report(y_val, y_preds))\n",
        "\n",
        "  return log_conf_matrix"
      ],
      "execution_count": null,
      "outputs": []
    },
    {
      "cell_type": "code",
      "source": [
        "log_conf_matrix = model_evaluation(y_val, log_y_preds, log_y_probas)"
      ],
      "metadata": {
        "id": "u53wnY9-cVRb"
      },
      "execution_count": null,
      "outputs": []
    },
    {
      "cell_type": "code",
      "source": [
        "sns.heatmap(log_conf_matrix, annot=True, cmap=\"Blues\", fmt=\"d\")\n",
        "plt.xticks([0.5, 1.5], ['Benign', 'Malignant'])\n",
        "plt.yticks([0.5, 1.5], ['Benign', 'Malignant'])\n",
        "plt.xlabel(\"Predicted\")\n",
        "plt.ylabel(\"Actual\")\n",
        "plt.title(\"Logistic Regression Confusion Matrix\")\n",
        "plt.show()"
      ],
      "metadata": {
        "id": "sh2yIfwVZ-bE"
      },
      "execution_count": null,
      "outputs": []
    },
    {
      "cell_type": "markdown",
      "source": [
        "## Random Forests"
      ],
      "metadata": {
        "id": "WBUmggE3c7f7"
      }
    },
    {
      "cell_type": "code",
      "source": [
        "forest = skl.ensemble.RandomForestClassifier(n_estimators=50, max_leaf_nodes=40, max_depth=4, verbose=1, n_jobs=-1, class_weight='balanced')"
      ],
      "metadata": {
        "id": "7YjqSU0Ma_pr"
      },
      "execution_count": null,
      "outputs": []
    },
    {
      "cell_type": "code",
      "source": [
        "forest.fit(X_train, y_train)"
      ],
      "metadata": {
        "id": "3zLMLFajdQsz"
      },
      "execution_count": null,
      "outputs": []
    },
    {
      "cell_type": "code",
      "source": [
        "forest_y_preds = forest.predict(X_val)\n",
        "forest_y_probas = forest.predict_proba(X_val)"
      ],
      "metadata": {
        "id": "p4NFqeDPdoiT"
      },
      "execution_count": null,
      "outputs": []
    },
    {
      "cell_type": "code",
      "source": [
        "forest_y_preds"
      ],
      "metadata": {
        "id": "gRQ1-ao3gBsr"
      },
      "execution_count": null,
      "outputs": []
    },
    {
      "cell_type": "code",
      "source": [
        "y_val.values"
      ],
      "metadata": {
        "id": "T8mMYGj9gEwD"
      },
      "execution_count": null,
      "outputs": []
    },
    {
      "cell_type": "code",
      "source": [
        "forest_conf_matrix = model_evaluation(y_val, forest_y_preds, forest_y_probas)"
      ],
      "metadata": {
        "id": "VdIUNshrdtC8"
      },
      "execution_count": null,
      "outputs": []
    },
    {
      "cell_type": "code",
      "source": [
        "def confusion_matrix_heatmap(conf_matrix, title:str):\n",
        "  sns.heatmap(conf_matrix, annot=True, cmap=\"Blues\", fmt=\"d\")\n",
        "  plt.xticks([0.5, 1.5], ['Good', 'Bad'])\n",
        "  plt.yticks([0.5, 1.5], ['Good', 'Bad'])\n",
        "  plt.xlabel(\"Predicted\")\n",
        "  plt.ylabel(\"Actual\")\n",
        "  plt.title(title)\n",
        "  plt.show()"
      ],
      "metadata": {
        "id": "mp77hjz2dxCL"
      },
      "execution_count": null,
      "outputs": []
    },
    {
      "cell_type": "code",
      "source": [
        "confusion_matrix_heatmap(forest_conf_matrix, \"Random Forest Confusion Matrix\")"
      ],
      "metadata": {
        "id": "MmIQLGikeDMT"
      },
      "execution_count": null,
      "outputs": []
    },
    {
      "cell_type": "code",
      "source": [
        "forest_betas = pd.DataFrame(forest.feature_importances_, index=X_train.columns, columns=[\"Importance\"]).sort_values(by=\"Importance\", ascending=False)"
      ],
      "metadata": {
        "id": "suBsHkSVj5Yy"
      },
      "execution_count": null,
      "outputs": []
    },
    {
      "cell_type": "code",
      "source": [
        "forest_betas.T"
      ],
      "metadata": {
        "id": "vcnclX9zkCn7"
      },
      "execution_count": null,
      "outputs": []
    },
    {
      "cell_type": "code",
      "source": [
        "plt.figure(figsize=(30,20))\n",
        "sns.barplot(data=forest_betas.T, orient=\"h\")\n",
        "plt.grid(axis=\"x\", c=\"white\")\n",
        "plt.show()"
      ],
      "metadata": {
        "id": "Aa6wzUs1kExC"
      },
      "execution_count": null,
      "outputs": []
    },
    {
      "cell_type": "markdown",
      "source": [
        "## SVM"
      ],
      "metadata": {
        "id": "fm7cddMzgaBL"
      }
    },
    {
      "cell_type": "code",
      "source": [
        "svm = skl.svm.SVC(kernel='linear', probability=True, verbose=True)"
      ],
      "metadata": {
        "id": "RrjObPh0gZ2T"
      },
      "execution_count": null,
      "outputs": []
    },
    {
      "cell_type": "code",
      "source": [
        "svm.fit(X_train, y_train)"
      ],
      "metadata": {
        "id": "sdSD5Y0-jlDy"
      },
      "execution_count": null,
      "outputs": []
    },
    {
      "cell_type": "code",
      "source": [
        "svm_y_preds = svm.predict(X_val)\n",
        "svm_y_probas = svm.predict_proba(X_val)"
      ],
      "metadata": {
        "id": "IikW9WEpjreh"
      },
      "execution_count": null,
      "outputs": []
    },
    {
      "cell_type": "code",
      "source": [
        "svm_conv_matrix = model_evaluation(y_val, svm_y_preds, svm_y_probas)"
      ],
      "metadata": {
        "id": "PCc4wJ86jtGq"
      },
      "execution_count": null,
      "outputs": []
    },
    {
      "cell_type": "code",
      "source": [
        "confusion_matrix_heatmap(svm_conv_matrix, \"SupportVectorClassifier Confusion Matrix\")"
      ],
      "metadata": {
        "id": "ZB0q4qGljvg5"
      },
      "execution_count": null,
      "outputs": []
    },
    {
      "cell_type": "code",
      "source": [
        "svm_betas = pd.DataFrame(svm.coef_, columns=X_train.columns)\n",
        "svm_betas.head()"
      ],
      "metadata": {
        "id": "Kog1feX2jx9C"
      },
      "execution_count": null,
      "outputs": []
    },
    {
      "cell_type": "code",
      "source": [
        "plt.figure(figsize=(30,20))\n",
        "sns.barplot(data=svm_betas.sort_values(by=0, axis=1), orient=\"h\")\n",
        "plt.grid(axis=\"x\", c=\"white\")\n",
        "plt.show()"
      ],
      "metadata": {
        "id": "Hcd92WyMkcii"
      },
      "execution_count": null,
      "outputs": []
    },
    {
      "cell_type": "markdown",
      "source": [
        "## XGBoost"
      ],
      "metadata": {
        "id": "7zJTBFXSlKgq"
      }
    },
    {
      "cell_type": "code",
      "source": [
        "from xgboost import XGBClassifier"
      ],
      "metadata": {
        "id": "xvMNJ_ftkjFi"
      },
      "execution_count": null,
      "outputs": []
    },
    {
      "cell_type": "code",
      "source": [
        "xgbc = XGBClassifier(max_depth=7, max_leaves=100, n_estimators=50, verbosity=3)"
      ],
      "metadata": {
        "id": "0RbbeT-wlRJK"
      },
      "execution_count": null,
      "outputs": []
    },
    {
      "cell_type": "code",
      "source": [
        "def y_numerical(df_og):\n",
        "  df = df_og.replace({\"B\": 0, \"M\": 1})\n",
        "  return df"
      ],
      "metadata": {
        "id": "Fe8o-P7kljOp"
      },
      "execution_count": null,
      "outputs": []
    },
    {
      "cell_type": "code",
      "source": [
        "y_train_num = y_numerical(y_train)\n",
        "y_val_num = y_numerical(y_val)\n",
        "y_test_num = y_numerical(y_test)"
      ],
      "metadata": {
        "id": "M9s9rwh6lqkS"
      },
      "execution_count": null,
      "outputs": []
    },
    {
      "cell_type": "code",
      "source": [
        "xgbc.fit(X_train, y_train_num)"
      ],
      "metadata": {
        "colab": {
          "base_uri": "https://localhost:8080/",
          "height": 948
        },
        "id": "Jz5sCMyvlefK",
        "outputId": "4af47247-ea70-4065-bf47-4110cf381d62"
      },
      "execution_count": 427,
      "outputs": [
        {
          "output_type": "stream",
          "name": "stdout",
          "text": [
            "[10:15:35] ======== Monitor (0): HostSketchContainer ========\n",
            "[10:15:35] AllReduce: 0.000404s, 1 calls @ 404us\n",
            "\n",
            "[10:15:35] MakeCuts: 0.00052s, 1 calls @ 520us\n",
            "\n",
            "[10:15:35] INFO: /workspace/src/data/iterative_dmatrix.cc:53: Finished constructing the `IterativeDMatrix`: (428, 26, 11128).\n",
            "[10:15:35] DEBUG: /workspace/src/gbm/gbtree.cc:131: Using tree method: 0\n",
            "[10:15:35] ======== Monitor (0): GBTree ========\n",
            "[10:15:35] BoostNewTrees: 0.220132s, 50 calls @ 220132us\n",
            "\n",
            "[10:15:35] CommitModel: 2.5e-05s, 50 calls @ 25us\n",
            "\n",
            "[10:15:35] ======== Monitor (0): HistUpdater ========\n",
            "[10:15:35] BuildHistogram: 0.092213s, 121 calls @ 92213us\n",
            "\n",
            "[10:15:35] EvaluateSplits: 0.052962s, 171 calls @ 52962us\n",
            "\n",
            "[10:15:35] InitData: 0.00526s, 50 calls @ 5260us\n",
            "\n",
            "[10:15:35] InitRoot: 0.032431s, 50 calls @ 32431us\n",
            "\n",
            "[10:15:35] LeafPartition: 6e-06s, 50 calls @ 6us\n",
            "\n",
            "[10:15:35] UpdatePosition: 0.047597s, 121 calls @ 47597us\n",
            "\n",
            "[10:15:35] UpdatePredictionCache: 0.005084s, 50 calls @ 5084us\n",
            "\n",
            "[10:15:35] UpdateTree: 0.214706s, 50 calls @ 214706us\n",
            "\n",
            "[10:15:35] ======== Monitor (0): Learner ========\n",
            "[10:15:35] Configure: 0.005144s, 2 calls @ 5144us\n",
            "\n",
            "[10:15:35] EvalOneIter: 0.000133s, 50 calls @ 133us\n",
            "\n",
            "[10:15:35] GetGradient: 0.005318s, 50 calls @ 5318us\n",
            "\n",
            "[10:15:35] PredictRaw: 3.3e-05s, 50 calls @ 33us\n",
            "\n",
            "[10:15:35] UpdateOneIter: 0.05794s, 50 calls @ 57940us\n",
            "\n"
          ]
        },
        {
          "output_type": "execute_result",
          "data": {
            "text/plain": [
              "XGBClassifier(base_score=None, booster=None, callbacks=None,\n",
              "              colsample_bylevel=None, colsample_bynode=None,\n",
              "              colsample_bytree=None, device=None, early_stopping_rounds=None,\n",
              "              enable_categorical=False, eval_metric=None, feature_types=None,\n",
              "              feature_weights=None, gamma=None, grow_policy=None,\n",
              "              importance_type=None, interaction_constraints=None,\n",
              "              learning_rate=None, max_bin=None, max_cat_threshold=None,\n",
              "              max_cat_to_onehot=None, max_delta_step=None, max_depth=7,\n",
              "              max_leaves=100, min_child_weight=None, missing=nan,\n",
              "              monotone_constraints=None, multi_strategy=None, n_estimators=50,\n",
              "              n_jobs=None, num_parallel_tree=None, ...)"
            ],
            "text/html": [
              "<style>#sk-container-id-14 {\n",
              "  /* Definition of color scheme common for light and dark mode */\n",
              "  --sklearn-color-text: #000;\n",
              "  --sklearn-color-text-muted: #666;\n",
              "  --sklearn-color-line: gray;\n",
              "  /* Definition of color scheme for unfitted estimators */\n",
              "  --sklearn-color-unfitted-level-0: #fff5e6;\n",
              "  --sklearn-color-unfitted-level-1: #f6e4d2;\n",
              "  --sklearn-color-unfitted-level-2: #ffe0b3;\n",
              "  --sklearn-color-unfitted-level-3: chocolate;\n",
              "  /* Definition of color scheme for fitted estimators */\n",
              "  --sklearn-color-fitted-level-0: #f0f8ff;\n",
              "  --sklearn-color-fitted-level-1: #d4ebff;\n",
              "  --sklearn-color-fitted-level-2: #b3dbfd;\n",
              "  --sklearn-color-fitted-level-3: cornflowerblue;\n",
              "\n",
              "  /* Specific color for light theme */\n",
              "  --sklearn-color-text-on-default-background: var(--sg-text-color, var(--theme-code-foreground, var(--jp-content-font-color1, black)));\n",
              "  --sklearn-color-background: var(--sg-background-color, var(--theme-background, var(--jp-layout-color0, white)));\n",
              "  --sklearn-color-border-box: var(--sg-text-color, var(--theme-code-foreground, var(--jp-content-font-color1, black)));\n",
              "  --sklearn-color-icon: #696969;\n",
              "\n",
              "  @media (prefers-color-scheme: dark) {\n",
              "    /* Redefinition of color scheme for dark theme */\n",
              "    --sklearn-color-text-on-default-background: var(--sg-text-color, var(--theme-code-foreground, var(--jp-content-font-color1, white)));\n",
              "    --sklearn-color-background: var(--sg-background-color, var(--theme-background, var(--jp-layout-color0, #111)));\n",
              "    --sklearn-color-border-box: var(--sg-text-color, var(--theme-code-foreground, var(--jp-content-font-color1, white)));\n",
              "    --sklearn-color-icon: #878787;\n",
              "  }\n",
              "}\n",
              "\n",
              "#sk-container-id-14 {\n",
              "  color: var(--sklearn-color-text);\n",
              "}\n",
              "\n",
              "#sk-container-id-14 pre {\n",
              "  padding: 0;\n",
              "}\n",
              "\n",
              "#sk-container-id-14 input.sk-hidden--visually {\n",
              "  border: 0;\n",
              "  clip: rect(1px 1px 1px 1px);\n",
              "  clip: rect(1px, 1px, 1px, 1px);\n",
              "  height: 1px;\n",
              "  margin: -1px;\n",
              "  overflow: hidden;\n",
              "  padding: 0;\n",
              "  position: absolute;\n",
              "  width: 1px;\n",
              "}\n",
              "\n",
              "#sk-container-id-14 div.sk-dashed-wrapped {\n",
              "  border: 1px dashed var(--sklearn-color-line);\n",
              "  margin: 0 0.4em 0.5em 0.4em;\n",
              "  box-sizing: border-box;\n",
              "  padding-bottom: 0.4em;\n",
              "  background-color: var(--sklearn-color-background);\n",
              "}\n",
              "\n",
              "#sk-container-id-14 div.sk-container {\n",
              "  /* jupyter's `normalize.less` sets `[hidden] { display: none; }`\n",
              "     but bootstrap.min.css set `[hidden] { display: none !important; }`\n",
              "     so we also need the `!important` here to be able to override the\n",
              "     default hidden behavior on the sphinx rendered scikit-learn.org.\n",
              "     See: https://github.com/scikit-learn/scikit-learn/issues/21755 */\n",
              "  display: inline-block !important;\n",
              "  position: relative;\n",
              "}\n",
              "\n",
              "#sk-container-id-14 div.sk-text-repr-fallback {\n",
              "  display: none;\n",
              "}\n",
              "\n",
              "div.sk-parallel-item,\n",
              "div.sk-serial,\n",
              "div.sk-item {\n",
              "  /* draw centered vertical line to link estimators */\n",
              "  background-image: linear-gradient(var(--sklearn-color-text-on-default-background), var(--sklearn-color-text-on-default-background));\n",
              "  background-size: 2px 100%;\n",
              "  background-repeat: no-repeat;\n",
              "  background-position: center center;\n",
              "}\n",
              "\n",
              "/* Parallel-specific style estimator block */\n",
              "\n",
              "#sk-container-id-14 div.sk-parallel-item::after {\n",
              "  content: \"\";\n",
              "  width: 100%;\n",
              "  border-bottom: 2px solid var(--sklearn-color-text-on-default-background);\n",
              "  flex-grow: 1;\n",
              "}\n",
              "\n",
              "#sk-container-id-14 div.sk-parallel {\n",
              "  display: flex;\n",
              "  align-items: stretch;\n",
              "  justify-content: center;\n",
              "  background-color: var(--sklearn-color-background);\n",
              "  position: relative;\n",
              "}\n",
              "\n",
              "#sk-container-id-14 div.sk-parallel-item {\n",
              "  display: flex;\n",
              "  flex-direction: column;\n",
              "}\n",
              "\n",
              "#sk-container-id-14 div.sk-parallel-item:first-child::after {\n",
              "  align-self: flex-end;\n",
              "  width: 50%;\n",
              "}\n",
              "\n",
              "#sk-container-id-14 div.sk-parallel-item:last-child::after {\n",
              "  align-self: flex-start;\n",
              "  width: 50%;\n",
              "}\n",
              "\n",
              "#sk-container-id-14 div.sk-parallel-item:only-child::after {\n",
              "  width: 0;\n",
              "}\n",
              "\n",
              "/* Serial-specific style estimator block */\n",
              "\n",
              "#sk-container-id-14 div.sk-serial {\n",
              "  display: flex;\n",
              "  flex-direction: column;\n",
              "  align-items: center;\n",
              "  background-color: var(--sklearn-color-background);\n",
              "  padding-right: 1em;\n",
              "  padding-left: 1em;\n",
              "}\n",
              "\n",
              "\n",
              "/* Toggleable style: style used for estimator/Pipeline/ColumnTransformer box that is\n",
              "clickable and can be expanded/collapsed.\n",
              "- Pipeline and ColumnTransformer use this feature and define the default style\n",
              "- Estimators will overwrite some part of the style using the `sk-estimator` class\n",
              "*/\n",
              "\n",
              "/* Pipeline and ColumnTransformer style (default) */\n",
              "\n",
              "#sk-container-id-14 div.sk-toggleable {\n",
              "  /* Default theme specific background. It is overwritten whether we have a\n",
              "  specific estimator or a Pipeline/ColumnTransformer */\n",
              "  background-color: var(--sklearn-color-background);\n",
              "}\n",
              "\n",
              "/* Toggleable label */\n",
              "#sk-container-id-14 label.sk-toggleable__label {\n",
              "  cursor: pointer;\n",
              "  display: flex;\n",
              "  width: 100%;\n",
              "  margin-bottom: 0;\n",
              "  padding: 0.5em;\n",
              "  box-sizing: border-box;\n",
              "  text-align: center;\n",
              "  align-items: start;\n",
              "  justify-content: space-between;\n",
              "  gap: 0.5em;\n",
              "}\n",
              "\n",
              "#sk-container-id-14 label.sk-toggleable__label .caption {\n",
              "  font-size: 0.6rem;\n",
              "  font-weight: lighter;\n",
              "  color: var(--sklearn-color-text-muted);\n",
              "}\n",
              "\n",
              "#sk-container-id-14 label.sk-toggleable__label-arrow:before {\n",
              "  /* Arrow on the left of the label */\n",
              "  content: \"▸\";\n",
              "  float: left;\n",
              "  margin-right: 0.25em;\n",
              "  color: var(--sklearn-color-icon);\n",
              "}\n",
              "\n",
              "#sk-container-id-14 label.sk-toggleable__label-arrow:hover:before {\n",
              "  color: var(--sklearn-color-text);\n",
              "}\n",
              "\n",
              "/* Toggleable content - dropdown */\n",
              "\n",
              "#sk-container-id-14 div.sk-toggleable__content {\n",
              "  max-height: 0;\n",
              "  max-width: 0;\n",
              "  overflow: hidden;\n",
              "  text-align: left;\n",
              "  /* unfitted */\n",
              "  background-color: var(--sklearn-color-unfitted-level-0);\n",
              "}\n",
              "\n",
              "#sk-container-id-14 div.sk-toggleable__content.fitted {\n",
              "  /* fitted */\n",
              "  background-color: var(--sklearn-color-fitted-level-0);\n",
              "}\n",
              "\n",
              "#sk-container-id-14 div.sk-toggleable__content pre {\n",
              "  margin: 0.2em;\n",
              "  border-radius: 0.25em;\n",
              "  color: var(--sklearn-color-text);\n",
              "  /* unfitted */\n",
              "  background-color: var(--sklearn-color-unfitted-level-0);\n",
              "}\n",
              "\n",
              "#sk-container-id-14 div.sk-toggleable__content.fitted pre {\n",
              "  /* unfitted */\n",
              "  background-color: var(--sklearn-color-fitted-level-0);\n",
              "}\n",
              "\n",
              "#sk-container-id-14 input.sk-toggleable__control:checked~div.sk-toggleable__content {\n",
              "  /* Expand drop-down */\n",
              "  max-height: 200px;\n",
              "  max-width: 100%;\n",
              "  overflow: auto;\n",
              "}\n",
              "\n",
              "#sk-container-id-14 input.sk-toggleable__control:checked~label.sk-toggleable__label-arrow:before {\n",
              "  content: \"▾\";\n",
              "}\n",
              "\n",
              "/* Pipeline/ColumnTransformer-specific style */\n",
              "\n",
              "#sk-container-id-14 div.sk-label input.sk-toggleable__control:checked~label.sk-toggleable__label {\n",
              "  color: var(--sklearn-color-text);\n",
              "  background-color: var(--sklearn-color-unfitted-level-2);\n",
              "}\n",
              "\n",
              "#sk-container-id-14 div.sk-label.fitted input.sk-toggleable__control:checked~label.sk-toggleable__label {\n",
              "  background-color: var(--sklearn-color-fitted-level-2);\n",
              "}\n",
              "\n",
              "/* Estimator-specific style */\n",
              "\n",
              "/* Colorize estimator box */\n",
              "#sk-container-id-14 div.sk-estimator input.sk-toggleable__control:checked~label.sk-toggleable__label {\n",
              "  /* unfitted */\n",
              "  background-color: var(--sklearn-color-unfitted-level-2);\n",
              "}\n",
              "\n",
              "#sk-container-id-14 div.sk-estimator.fitted input.sk-toggleable__control:checked~label.sk-toggleable__label {\n",
              "  /* fitted */\n",
              "  background-color: var(--sklearn-color-fitted-level-2);\n",
              "}\n",
              "\n",
              "#sk-container-id-14 div.sk-label label.sk-toggleable__label,\n",
              "#sk-container-id-14 div.sk-label label {\n",
              "  /* The background is the default theme color */\n",
              "  color: var(--sklearn-color-text-on-default-background);\n",
              "}\n",
              "\n",
              "/* On hover, darken the color of the background */\n",
              "#sk-container-id-14 div.sk-label:hover label.sk-toggleable__label {\n",
              "  color: var(--sklearn-color-text);\n",
              "  background-color: var(--sklearn-color-unfitted-level-2);\n",
              "}\n",
              "\n",
              "/* Label box, darken color on hover, fitted */\n",
              "#sk-container-id-14 div.sk-label.fitted:hover label.sk-toggleable__label.fitted {\n",
              "  color: var(--sklearn-color-text);\n",
              "  background-color: var(--sklearn-color-fitted-level-2);\n",
              "}\n",
              "\n",
              "/* Estimator label */\n",
              "\n",
              "#sk-container-id-14 div.sk-label label {\n",
              "  font-family: monospace;\n",
              "  font-weight: bold;\n",
              "  display: inline-block;\n",
              "  line-height: 1.2em;\n",
              "}\n",
              "\n",
              "#sk-container-id-14 div.sk-label-container {\n",
              "  text-align: center;\n",
              "}\n",
              "\n",
              "/* Estimator-specific */\n",
              "#sk-container-id-14 div.sk-estimator {\n",
              "  font-family: monospace;\n",
              "  border: 1px dotted var(--sklearn-color-border-box);\n",
              "  border-radius: 0.25em;\n",
              "  box-sizing: border-box;\n",
              "  margin-bottom: 0.5em;\n",
              "  /* unfitted */\n",
              "  background-color: var(--sklearn-color-unfitted-level-0);\n",
              "}\n",
              "\n",
              "#sk-container-id-14 div.sk-estimator.fitted {\n",
              "  /* fitted */\n",
              "  background-color: var(--sklearn-color-fitted-level-0);\n",
              "}\n",
              "\n",
              "/* on hover */\n",
              "#sk-container-id-14 div.sk-estimator:hover {\n",
              "  /* unfitted */\n",
              "  background-color: var(--sklearn-color-unfitted-level-2);\n",
              "}\n",
              "\n",
              "#sk-container-id-14 div.sk-estimator.fitted:hover {\n",
              "  /* fitted */\n",
              "  background-color: var(--sklearn-color-fitted-level-2);\n",
              "}\n",
              "\n",
              "/* Specification for estimator info (e.g. \"i\" and \"?\") */\n",
              "\n",
              "/* Common style for \"i\" and \"?\" */\n",
              "\n",
              ".sk-estimator-doc-link,\n",
              "a:link.sk-estimator-doc-link,\n",
              "a:visited.sk-estimator-doc-link {\n",
              "  float: right;\n",
              "  font-size: smaller;\n",
              "  line-height: 1em;\n",
              "  font-family: monospace;\n",
              "  background-color: var(--sklearn-color-background);\n",
              "  border-radius: 1em;\n",
              "  height: 1em;\n",
              "  width: 1em;\n",
              "  text-decoration: none !important;\n",
              "  margin-left: 0.5em;\n",
              "  text-align: center;\n",
              "  /* unfitted */\n",
              "  border: var(--sklearn-color-unfitted-level-1) 1pt solid;\n",
              "  color: var(--sklearn-color-unfitted-level-1);\n",
              "}\n",
              "\n",
              ".sk-estimator-doc-link.fitted,\n",
              "a:link.sk-estimator-doc-link.fitted,\n",
              "a:visited.sk-estimator-doc-link.fitted {\n",
              "  /* fitted */\n",
              "  border: var(--sklearn-color-fitted-level-1) 1pt solid;\n",
              "  color: var(--sklearn-color-fitted-level-1);\n",
              "}\n",
              "\n",
              "/* On hover */\n",
              "div.sk-estimator:hover .sk-estimator-doc-link:hover,\n",
              ".sk-estimator-doc-link:hover,\n",
              "div.sk-label-container:hover .sk-estimator-doc-link:hover,\n",
              ".sk-estimator-doc-link:hover {\n",
              "  /* unfitted */\n",
              "  background-color: var(--sklearn-color-unfitted-level-3);\n",
              "  color: var(--sklearn-color-background);\n",
              "  text-decoration: none;\n",
              "}\n",
              "\n",
              "div.sk-estimator.fitted:hover .sk-estimator-doc-link.fitted:hover,\n",
              ".sk-estimator-doc-link.fitted:hover,\n",
              "div.sk-label-container:hover .sk-estimator-doc-link.fitted:hover,\n",
              ".sk-estimator-doc-link.fitted:hover {\n",
              "  /* fitted */\n",
              "  background-color: var(--sklearn-color-fitted-level-3);\n",
              "  color: var(--sklearn-color-background);\n",
              "  text-decoration: none;\n",
              "}\n",
              "\n",
              "/* Span, style for the box shown on hovering the info icon */\n",
              ".sk-estimator-doc-link span {\n",
              "  display: none;\n",
              "  z-index: 9999;\n",
              "  position: relative;\n",
              "  font-weight: normal;\n",
              "  right: .2ex;\n",
              "  padding: .5ex;\n",
              "  margin: .5ex;\n",
              "  width: min-content;\n",
              "  min-width: 20ex;\n",
              "  max-width: 50ex;\n",
              "  color: var(--sklearn-color-text);\n",
              "  box-shadow: 2pt 2pt 4pt #999;\n",
              "  /* unfitted */\n",
              "  background: var(--sklearn-color-unfitted-level-0);\n",
              "  border: .5pt solid var(--sklearn-color-unfitted-level-3);\n",
              "}\n",
              "\n",
              ".sk-estimator-doc-link.fitted span {\n",
              "  /* fitted */\n",
              "  background: var(--sklearn-color-fitted-level-0);\n",
              "  border: var(--sklearn-color-fitted-level-3);\n",
              "}\n",
              "\n",
              ".sk-estimator-doc-link:hover span {\n",
              "  display: block;\n",
              "}\n",
              "\n",
              "/* \"?\"-specific style due to the `<a>` HTML tag */\n",
              "\n",
              "#sk-container-id-14 a.estimator_doc_link {\n",
              "  float: right;\n",
              "  font-size: 1rem;\n",
              "  line-height: 1em;\n",
              "  font-family: monospace;\n",
              "  background-color: var(--sklearn-color-background);\n",
              "  border-radius: 1rem;\n",
              "  height: 1rem;\n",
              "  width: 1rem;\n",
              "  text-decoration: none;\n",
              "  /* unfitted */\n",
              "  color: var(--sklearn-color-unfitted-level-1);\n",
              "  border: var(--sklearn-color-unfitted-level-1) 1pt solid;\n",
              "}\n",
              "\n",
              "#sk-container-id-14 a.estimator_doc_link.fitted {\n",
              "  /* fitted */\n",
              "  border: var(--sklearn-color-fitted-level-1) 1pt solid;\n",
              "  color: var(--sklearn-color-fitted-level-1);\n",
              "}\n",
              "\n",
              "/* On hover */\n",
              "#sk-container-id-14 a.estimator_doc_link:hover {\n",
              "  /* unfitted */\n",
              "  background-color: var(--sklearn-color-unfitted-level-3);\n",
              "  color: var(--sklearn-color-background);\n",
              "  text-decoration: none;\n",
              "}\n",
              "\n",
              "#sk-container-id-14 a.estimator_doc_link.fitted:hover {\n",
              "  /* fitted */\n",
              "  background-color: var(--sklearn-color-fitted-level-3);\n",
              "}\n",
              "</style><div id=\"sk-container-id-14\" class=\"sk-top-container\"><div class=\"sk-text-repr-fallback\"><pre>XGBClassifier(base_score=None, booster=None, callbacks=None,\n",
              "              colsample_bylevel=None, colsample_bynode=None,\n",
              "              colsample_bytree=None, device=None, early_stopping_rounds=None,\n",
              "              enable_categorical=False, eval_metric=None, feature_types=None,\n",
              "              feature_weights=None, gamma=None, grow_policy=None,\n",
              "              importance_type=None, interaction_constraints=None,\n",
              "              learning_rate=None, max_bin=None, max_cat_threshold=None,\n",
              "              max_cat_to_onehot=None, max_delta_step=None, max_depth=7,\n",
              "              max_leaves=100, min_child_weight=None, missing=nan,\n",
              "              monotone_constraints=None, multi_strategy=None, n_estimators=50,\n",
              "              n_jobs=None, num_parallel_tree=None, ...)</pre><b>In a Jupyter environment, please rerun this cell to show the HTML representation or trust the notebook. <br />On GitHub, the HTML representation is unable to render, please try loading this page with nbviewer.org.</b></div><div class=\"sk-container\" hidden><div class=\"sk-item\"><div class=\"sk-estimator fitted sk-toggleable\"><input class=\"sk-toggleable__control sk-hidden--visually\" id=\"sk-estimator-id-14\" type=\"checkbox\" checked><label for=\"sk-estimator-id-14\" class=\"sk-toggleable__label fitted sk-toggleable__label-arrow\"><div><div>XGBClassifier</div></div><div><a class=\"sk-estimator-doc-link fitted\" rel=\"noreferrer\" target=\"_blank\" href=\"https://xgboost.readthedocs.io/en/release_3.0.0/python/python_api.html#xgboost.XGBClassifier\">?<span>Documentation for XGBClassifier</span></a><span class=\"sk-estimator-doc-link fitted\">i<span>Fitted</span></span></div></label><div class=\"sk-toggleable__content fitted\"><pre>XGBClassifier(base_score=None, booster=None, callbacks=None,\n",
              "              colsample_bylevel=None, colsample_bynode=None,\n",
              "              colsample_bytree=None, device=None, early_stopping_rounds=None,\n",
              "              enable_categorical=False, eval_metric=None, feature_types=None,\n",
              "              feature_weights=None, gamma=None, grow_policy=None,\n",
              "              importance_type=None, interaction_constraints=None,\n",
              "              learning_rate=None, max_bin=None, max_cat_threshold=None,\n",
              "              max_cat_to_onehot=None, max_delta_step=None, max_depth=7,\n",
              "              max_leaves=100, min_child_weight=None, missing=nan,\n",
              "              monotone_constraints=None, multi_strategy=None, n_estimators=50,\n",
              "              n_jobs=None, num_parallel_tree=None, ...)</pre></div> </div></div></div></div>"
            ]
          },
          "metadata": {},
          "execution_count": 427
        }
      ]
    },
    {
      "cell_type": "code",
      "source": [
        "xgbc_y_preds = xgbc.predict(X_val)\n",
        "xgbc_y_probas = xgbc.predict_proba(X_val)"
      ],
      "metadata": {
        "id": "7iOojRR4lynS"
      },
      "execution_count": null,
      "outputs": []
    },
    {
      "cell_type": "code",
      "source": [
        "def model_evaluation_num(y_val, y_preds, y_probas):\n",
        "\n",
        "  # Evaluate the model on the validation set\n",
        "  log_precision = skl.metrics.precision_score(y_val, y_preds, pos_label=0) # Assuming 'M' is the positive class\n",
        "  log_recall = skl.metrics.recall_score(y_val, y_preds, pos_label=0)\n",
        "  log_f1 = skl.metrics.f1_score(y_val, y_preds, pos_label=0)\n",
        "  log_bceloss = skl.metrics.log_loss(y_val, y_probas)\n",
        "\n",
        "  print(f\"Validation Precision: {log_precision:.4f}\")\n",
        "  print(f\"Validation Recall: {log_recall:.4f}\")\n",
        "  print(f\"Validation F1-score: {log_f1:.4f}\")\n",
        "  print(f\"Validation BinaryCrossEntropy Loss: {log_bceloss:.4f}\")\n",
        "\n",
        "  # Display confusion matrix\n",
        "  log_conf_matrix = skl.metrics.confusion_matrix(y_val, y_preds, labels=[1, 0])\n",
        "  print(\"\\nConfusion Matrix:\")\n",
        "  print(log_conf_matrix) # Specify labels to ensure correct order\n",
        "\n",
        "  # Display classification report\n",
        "  print(\"\\nClassification Report:\")\n",
        "  print(skl.metrics.classification_report(y_val, y_preds))\n",
        "\n",
        "  return log_conf_matrix"
      ],
      "metadata": {
        "id": "JZYvoj21l9h5"
      },
      "execution_count": null,
      "outputs": []
    },
    {
      "cell_type": "code",
      "source": [
        "xgb_conf_matrix =  model_evaluation_num(y_val_num, xgbc_y_preds, xgbc_y_probas)"
      ],
      "metadata": {
        "id": "9A6k1cmIl2LR"
      },
      "execution_count": null,
      "outputs": []
    },
    {
      "cell_type": "code",
      "source": [
        "xgbc_betas = pd.DataFrame(xgbc.feature_importances_, index=X_train.columns, columns=[\"Importance\"]).sort_values(by=\"Importance\", ascending=False)"
      ],
      "metadata": {
        "id": "3uKv8qqCuSiR"
      },
      "execution_count": null,
      "outputs": []
    },
    {
      "cell_type": "code",
      "source": [
        "plt.figure(figsize=(30,20))\n",
        "sns.barplot(data=xgbc_betas.T, orient=\"h\")\n",
        "plt.grid(axis=\"x\", c=\"white\")\n",
        "plt.show()"
      ],
      "metadata": {
        "colab": {
          "base_uri": "https://localhost:8080/",
          "height": 717
        },
        "id": "8HUhNTAlucwI",
        "outputId": "28271f00-2b1b-40d7-d862-71a48bbc4b4d"
      },
      "execution_count": 432,
      "outputs": [
        {
          "output_type": "display_data",
          "data": {
            "text/plain": [
              "<Figure size 3000x2000 with 1 Axes>"
            ],
            "image/png": "[encoded data removed]"
          },
          "metadata": {}
        }
      ]
    },
    {
      "cell_type": "markdown",
      "source": [
        "## Neural Networks"
      ],
      "metadata": {
        "id": "A8gwymYJvHxA"
      }
    },
    {
      "cell_type": "code",
      "source": [
        "import torch\n",
        "import torch.nn as nn\n",
        "import torch.utils.data as data\n",
        "from torchsummary import summary\n",
        "\n",
        "device = \"cuda\" if torch.cuda.is_available() else \"cpu\"\n",
        "print(f\"We are currently using device: {device}\")"
      ],
      "metadata": {
        "colab": {
          "base_uri": "https://localhost:8080/"
        },
        "id": "eQe2BVDvukyg",
        "outputId": "b0616ac0-ca52-467b-ceb1-975882d419da"
      },
      "execution_count": 433,
      "outputs": [
        {
          "output_type": "stream",
          "name": "stdout",
          "text": [
            "We are currently using device: cuda\n"
          ]
        }
      ]
    },
    {
      "cell_type": "code",
      "source": [
        "class CancerDataset(data.Dataset):\n",
        "  def __init__(self, X, y):\n",
        "    self.X = torch.tensor(X.values, dtype=torch.float32)\n",
        "    self.y = torch.tensor(y.values, dtype=torch.float32)\n",
        "\n",
        "  def __str__(self) -> str:\n",
        "    return f\"CancerDataset with {len(self)} samples\"\n",
        "\n",
        "  def __len__(self):\n",
        "    return len(self.X)\n",
        "\n",
        "  def __getitem__(self, index):\n",
        "    return self.X[index], self.y[index]"
      ],
      "metadata": {
        "id": "GTwVnfpZy4BQ"
      },
      "execution_count": 434,
      "outputs": []
    },
    {
      "cell_type": "code",
      "source": [
        "train_medium = CancerDataset(X_train, y_train_num)\n",
        "val_medium = CancerDataset(X_val, y_val_num)\n",
        "test_medium = CancerDataset(X_test, y_test_num)"
      ],
      "metadata": {
        "id": "NQPxczhg1Cdf"
      },
      "execution_count": 435,
      "outputs": []
    },
    {
      "cell_type": "code",
      "source": [
        "train_nn = data.DataLoader(train_medium, batch_size=32, shuffle=True)\n",
        "val_nn = data.DataLoader(val_medium, batch_size=32, shuffle=True)\n",
        "test_nn = data.DataLoader(test_medium, batch_size=32, shuffle=True)"
      ],
      "metadata": {
        "id": "DoNwUL4h1J3P"
      },
      "execution_count": 436,
      "outputs": []
    },
    {
      "cell_type": "code",
      "source": [
        "print(len(train_nn), \"|\", X.shape)"
      ],
      "metadata": {
        "colab": {
          "base_uri": "https://localhost:8080/"
        },
        "id": "Sf6XQl3m1M2_",
        "outputId": "e33f279a-0769-40dd-9247-0a1eb2ffc342"
      },
      "execution_count": 437,
      "outputs": [
        {
          "output_type": "stream",
          "name": "stdout",
          "text": [
            "14 | (569, 30)\n"
          ]
        }
      ]
    },
    {
      "cell_type": "code",
      "source": [
        "class BCancerDetector(nn.Module):\n",
        "  def __init__(self) -> None:\n",
        "    super(BCancerDetector, self).__init__()\n",
        "\n",
        "    self.layer_1 = nn.Linear(X_train.shape[1], 64)\n",
        "    self.relu = nn.ReLU()\n",
        "    self.dropout = nn.Dropout(0.2)\n",
        "    self.layer_2 = nn.Linear(64, 32)\n",
        "    self.layer_3 = nn.Linear(32, 1)\n",
        "    self.sigmoid = nn.Sigmoid()\n",
        "\n",
        "  def forward(self, x):\n",
        "    x = self.layer_1(x)\n",
        "    x = self.relu(x)\n",
        "    x = self.dropout(x)\n",
        "    x = self.layer_2(x)\n",
        "    x = self.relu(x)\n",
        "    x = self.dropout(x)\n",
        "    x = self.layer_3(x)\n",
        "    x = self.sigmoid(x)\n",
        "    return x\n",
        ""
      ],
      "metadata": {
        "id": "pQ_PK33K1X9f"
      },
      "execution_count": 438,
      "outputs": []
    },
    {
      "cell_type": "code",
      "source": [
        "summary(BCancerDetector().to(device), (X_train.shape[1],))"
      ],
      "metadata": {
        "colab": {
          "base_uri": "https://localhost:8080/"
        },
        "id": "2FTYYUHw3fCo",
        "outputId": "d027bd2e-ab80-4e5c-ebb5-51a20f2d6451"
      },
      "execution_count": 439,
      "outputs": [
        {
          "output_type": "stream",
          "name": "stdout",
          "text": [
            "----------------------------------------------------------------\n",
            "        Layer (type)               Output Shape         Param #\n",
            "================================================================\n",
            "            Linear-1                   [-1, 64]           1,728\n",
            "              ReLU-2                   [-1, 64]               0\n",
            "           Dropout-3                   [-1, 64]               0\n",
            "            Linear-4                   [-1, 32]           2,080\n",
            "              ReLU-5                   [-1, 32]               0\n",
            "           Dropout-6                   [-1, 32]               0\n",
            "            Linear-7                    [-1, 1]              33\n",
            "           Sigmoid-8                    [-1, 1]               0\n",
            "================================================================\n",
            "Total params: 3,841\n",
            "Trainable params: 3,841\n",
            "Non-trainable params: 0\n",
            "----------------------------------------------------------------\n",
            "Input size (MB): 0.00\n",
            "Forward/backward pass size (MB): 0.00\n",
            "Params size (MB): 0.01\n",
            "Estimated Total Size (MB): 0.02\n",
            "----------------------------------------------------------------\n"
          ]
        }
      ]
    },
    {
      "cell_type": "code",
      "source": [
        "# Instantiate the model, loss function, and optimizer\n",
        "model = BCancerDetector().to(device)\n",
        "criterion = nn.BCELoss() # Binary Cross-Entropy Loss for binary classification\n",
        "optimizer = torch.optim.Adam(model.parameters(), lr=0.001) # Adam optimizer\n",
        "\n",
        "# Training loop\n",
        "num_epochs = 100\n",
        "\n",
        "for epoch in range(num_epochs):\n",
        "    model.train() # Set the model to training mode\n",
        "    running_loss = 0.0\n",
        "    for inputs, labels in train_nn:\n",
        "        inputs, labels = inputs.to(device), labels.to(device)\n",
        "\n",
        "        # Zero the parameter gradients\n",
        "        optimizer.zero_grad()\n",
        "\n",
        "        # Forward pass\n",
        "        outputs = model(inputs)\n",
        "        loss = criterion(outputs, labels.unsqueeze(1)) # Add unsqueeze(1) to match shape\n",
        "\n",
        "        # Backward pass and optimize\n",
        "        loss.backward()\n",
        "        optimizer.step()\n",
        "\n",
        "        running_loss += loss.item() * inputs.size(0)\n",
        "\n",
        "    if (epoch+1) % 10 == 0:\n",
        "      print(f\"Epoch {epoch+1}/{num_epochs} | Training Loss: {(running_loss / len(train_medium)):.4f}\")\n",
        "\n",
        "    model.eval()\n",
        "    with torch.no_grad():\n",
        "        val_running_loss = 0.0\n",
        "        for val_inputs, val_labels in val_nn:\n",
        "            val_inputs, val_labels = val_inputs.to(device), val_labels.to(device)\n",
        "            val_outputs = model(val_inputs)\n",
        "            val_loss = criterion(val_outputs, val_labels.unsqueeze(1))\n",
        "            val_running_loss += val_loss.item() * val_inputs.size(0)\n",
        "        val_epoch_loss = val_running_loss / len(val_medium)\n",
        "        if (epoch+1) % 10 == 0:\n",
        "          print(f\"Epoch {epoch+1}/{num_epochs} | Validation Loss: {val_epoch_loss:.4f}\")\n",
        "          print(\"=\"*38)\n",
        "\n",
        "print(\"Training finished!\")"
      ],
      "metadata": {
        "colab": {
          "base_uri": "https://localhost:8080/"
        },
        "id": "hO1Kc0Nw3z2H",
        "outputId": "be49e81a-c49b-4e46-a2ec-c7ef44968012"
      },
      "execution_count": 440,
      "outputs": [
        {
          "output_type": "stream",
          "name": "stdout",
          "text": [
            "Epoch 10/100 | Training Loss: 0.0518\n",
            "Epoch 10/100 | Validation Loss: 0.0419\n",
            "======================================\n",
            "Epoch 20/100 | Training Loss: 0.0235\n",
            "Epoch 20/100 | Validation Loss: 0.0195\n",
            "======================================\n",
            "Epoch 30/100 | Training Loss: 0.0162\n",
            "Epoch 30/100 | Validation Loss: 0.0131\n",
            "======================================\n",
            "Epoch 40/100 | Training Loss: 0.0113\n",
            "Epoch 40/100 | Validation Loss: 0.0101\n",
            "======================================\n",
            "Epoch 50/100 | Training Loss: 0.0096\n",
            "Epoch 50/100 | Validation Loss: 0.0070\n",
            "======================================\n",
            "Epoch 60/100 | Training Loss: 0.0058\n",
            "Epoch 60/100 | Validation Loss: 0.0075\n",
            "======================================\n",
            "Epoch 70/100 | Training Loss: 0.0031\n",
            "Epoch 70/100 | Validation Loss: 0.0045\n",
            "======================================\n",
            "Epoch 80/100 | Training Loss: 0.0069\n",
            "Epoch 80/100 | Validation Loss: 0.0058\n",
            "======================================\n",
            "Epoch 90/100 | Training Loss: 0.0030\n",
            "Epoch 90/100 | Validation Loss: 0.0046\n",
            "======================================\n",
            "Epoch 100/100 | Training Loss: 0.0088\n",
            "Epoch 100/100 | Validation Loss: 0.0052\n",
            "======================================\n",
            "Training finished!\n"
          ]
        }
      ]
    },
    {
      "cell_type": "code",
      "source": [
        "threshold = 0.75"
      ],
      "metadata": {
        "id": "RmbHHNwxDdHP"
      },
      "execution_count": 441,
      "outputs": []
    },
    {
      "cell_type": "code",
      "source": [
        "nn_y_preds = []\n",
        "nn_y_probas = []\n",
        "nn_y_val = []\n",
        "with torch.no_grad():\n",
        "  model.eval()\n",
        "  for inputs, labels in val_nn:\n",
        "    inputs, labels = inputs.to(device), labels.to(device)\n",
        "    outputs = model(inputs)\n",
        "    nn_y_preds.append((outputs > threshold).cpu().numpy())\n",
        "    nn_y_probas.append(outputs.cpu().numpy())\n",
        "    nn_y_val.append(labels.cpu().numpy())\n",
        "\n",
        "nn_y_preds = np.concatenate(nn_y_preds)\n",
        "nn_y_probas = np.concatenate(nn_y_probas)\n",
        "nn_y_val = np.concatenate(nn_y_val)"
      ],
      "metadata": {
        "id": "EvAeme1Z4jR3"
      },
      "execution_count": 442,
      "outputs": []
    },
    {
      "cell_type": "code",
      "source": [
        "nn_y_val = nn_y_val.astype(int)"
      ],
      "metadata": {
        "id": "S1ea1sjlCAFV"
      },
      "execution_count": 443,
      "outputs": []
    },
    {
      "cell_type": "code",
      "source": [
        "nn_y_val"
      ],
      "metadata": {
        "colab": {
          "base_uri": "https://localhost:8080/"
        },
        "id": "vBQiW7f6CCvt",
        "outputId": "4b4a79dd-6728-4ebe-dfde-33d8542363be"
      },
      "execution_count": 444,
      "outputs": [
        {
          "output_type": "execute_result",
          "data": {
            "text/plain": [
              "array([0, 0, 1, 0, 0, 0, 1, 1, 1, 0, 1, 0, 1, 0, 0, 0, 1, 0, 0, 0, 0, 1,\n",
              "       1, 1, 1, 1, 1, 1, 0, 1, 0, 0, 0, 0, 1, 0, 0, 0, 0, 1, 0, 1, 1, 1,\n",
              "       1, 0, 0, 1, 1, 1, 1, 0, 0, 0, 1, 0, 0, 1, 0, 1, 1, 0, 0, 1, 0, 0,\n",
              "       0, 0, 0, 1, 1, 1, 1, 1, 1, 0, 1, 1, 1, 0, 0, 0, 1, 1, 0, 0, 0, 0,\n",
              "       0, 1, 0, 0, 0, 1, 1, 0, 1, 0, 1, 1, 1, 0, 0, 0, 1, 1, 1, 0, 0, 0,\n",
              "       0, 0, 1, 1, 0, 0, 1, 0, 0, 1, 1, 1, 1, 0, 0, 1, 1, 1, 0, 1, 0, 0,\n",
              "       0, 1, 1, 0, 1, 1, 0, 1, 1, 1, 0])"
            ]
          },
          "metadata": {},
          "execution_count": 444
        }
      ]
    },
    {
      "cell_type": "code",
      "source": [
        "nn_y_preds = nn_y_preds.flatten().astype(int)"
      ],
      "metadata": {
        "id": "lOpViKPJCF--"
      },
      "execution_count": 445,
      "outputs": []
    },
    {
      "cell_type": "code",
      "source": [
        "for value in nn_y_probas.flatten():\n",
        "  if 0.9 < value < 1:\n",
        "    print(f\"{value:.4f}\")"
      ],
      "metadata": {
        "colab": {
          "base_uri": "https://localhost:8080/"
        },
        "id": "7yebJYauCQBU",
        "outputId": "f12ff133-5b01-449a-d736-beaf47b34a49"
      },
      "execution_count": 446,
      "outputs": [
        {
          "output_type": "stream",
          "name": "stdout",
          "text": [
            "0.9938\n",
            "1.0000\n",
            "1.0000\n",
            "1.0000\n",
            "0.9925\n",
            "0.9998\n",
            "0.9691\n",
            "1.0000\n",
            "0.9993\n",
            "1.0000\n",
            "0.9997\n",
            "1.0000\n",
            "1.0000\n",
            "0.9977\n"
          ]
        }
      ]
    },
    {
      "cell_type": "code",
      "source": [
        "nn_conf_matrix = model_evaluation_num(nn_y_val, nn_y_preds, nn_y_probas)"
      ],
      "metadata": {
        "colab": {
          "base_uri": "https://localhost:8080/"
        },
        "id": "d7-Ib7dnCRIV",
        "outputId": "bcb9c5da-ed0f-40b2-9a68-c65d1c2f1478"
      },
      "execution_count": 447,
      "outputs": [
        {
          "output_type": "stream",
          "name": "stdout",
          "text": [
            "Validation Precision: 1.0000\n",
            "Validation Recall: 1.0000\n",
            "Validation F1-score: 1.0000\n",
            "Validation BinaryCrossEntropy Loss: 0.0052\n",
            "\n",
            "Confusion Matrix:\n",
            "[[69  0]\n",
            " [ 0 74]]\n",
            "\n",
            "Classification Report:\n",
            "              precision    recall  f1-score   support\n",
            "\n",
            "           0       1.00      1.00      1.00        74\n",
            "           1       1.00      1.00      1.00        69\n",
            "\n",
            "    accuracy                           1.00       143\n",
            "   macro avg       1.00      1.00      1.00       143\n",
            "weighted avg       1.00      1.00      1.00       143\n",
            "\n"
          ]
        }
      ]
    },
    {
      "cell_type": "code",
      "source": [
        "confusion_matrix_heatmap(nn_conf_matrix, \"NeuralNetwork Confusion Matrix\")"
      ],
      "metadata": {
        "colab": {
          "base_uri": "https://localhost:8080/",
          "height": 472
        },
        "id": "IY3t_yYvCV01",
        "outputId": "80f57e7c-b58a-4200-f95a-8c2413e4b91b"
      },
      "execution_count": 448,
      "outputs": [
        {
          "output_type": "display_data",
          "data": {
            "text/plain": [
              "<Figure size 640x480 with 2 Axes>"
            ],
            "image/png": "[encoded data removed]"
          },
          "metadata": {}
        }
      ]
    },
    {
      "cell_type": "markdown",
      "source": [
        "# Testing with Unseen Data\n",
        "No takebacksies from here, after I evaluate the test set my hands are tied and no more modelling."
      ],
      "metadata": {
        "id": "Rol9q8e3HcUH"
      }
    },
    {
      "cell_type": "code",
      "source": [
        "X_test"
      ],
      "metadata": {
        "colab": {
          "base_uri": "https://localhost:8080/",
          "height": 461
        },
        "id": "UwGSk5SuClSV",
        "outputId": "ecd545a2-34a7-45bc-db46-e89c401e1ff9"
      },
      "execution_count": 449,
      "outputs": [
        {
          "output_type": "execute_result",
          "data": {
            "text/plain": [
              "     texture_mean  smoothness_mean  compactness_mean  concavity_mean  \\\n",
              "0       -0.823945        -0.243370         -1.249839       -1.207829   \n",
              "1        0.400972        -0.281444          0.354382        0.305705   \n",
              "2       -0.337270        -0.580064         -1.494072       -1.007455   \n",
              "3       -0.537112        -0.673382         -1.186394       -0.978886   \n",
              "4       -0.259684         0.739090          0.020252       -0.795576   \n",
              "..            ...              ...               ...             ...   \n",
              "138     -1.225981         0.017176          0.801877       -0.226126   \n",
              "139      0.792160         0.280273          1.241270        0.662948   \n",
              "140     -0.052788        -0.531538         -0.992480       -0.581370   \n",
              "141     -1.209523         0.091085         -0.421476       -0.875726   \n",
              "142      1.313194        -0.815227          0.141573       -0.142615   \n",
              "\n",
              "     concave points_mean  symmetry_mean  fractal_dimension_mean  radius_se  \\\n",
              "0              -1.311811       0.211122               -0.076267  -0.868788   \n",
              "1               0.722003       1.006945               -1.028845   1.940492   \n",
              "2              -0.718891      -1.380524               -0.595576  -0.968729   \n",
              "3              -0.924483      -0.870283               -0.518755  -0.939690   \n",
              "4              -0.661685      -0.405736                0.101957  -0.908765   \n",
              "..                   ...            ...                     ...        ...   \n",
              "138            -0.731631       0.275854                4.193433   0.322205   \n",
              "139             0.612604      -0.424996                0.313046  -0.518882   \n",
              "140            -0.590239      -0.881707               -0.890568   0.109123   \n",
              "141            -0.940221      -0.748435                1.159011  -0.387564   \n",
              "142            -1.108342       0.789902                2.305178  -0.834092   \n",
              "\n",
              "     texture_se  perimeter_se  ...  fractal_dimension_se  texture_worst  \\\n",
              "0     -0.442776     -0.922268  ...             -0.537106      -0.782481   \n",
              "1     -0.043648      1.779602  ...              0.123554       0.366836   \n",
              "2      2.063167     -1.020212  ...             -0.917709      -0.608494   \n",
              "3      0.628856     -0.920688  ...             -0.971884       1.651663   \n",
              "4     -1.099242     -0.876456  ...             -0.913118      -0.215350   \n",
              "..          ...           ...  ...                   ...            ...   \n",
              "138   -0.652000      0.031891  ...              8.334749      -1.802981   \n",
              "139   -0.241607      0.192868  ...              0.131514       0.336873   \n",
              "140   -0.114726      0.018200  ...             -0.875930       0.572609   \n",
              "141    2.367525     -0.375681  ...              1.369121      -1.165587   \n",
              "142    0.490346     -0.875403  ...              1.733196       0.910546   \n",
              "\n",
              "     smoothness_worst  compactness_worst  concavity_worst  \\\n",
              "0           -0.277700          -1.239268        -1.300368   \n",
              "1            0.029231           0.276409         0.261518   \n",
              "2           -1.699060          -1.511546        -1.278305   \n",
              "3            0.480599          -0.763572        -0.625906   \n",
              "4            1.252439           0.204841        -0.211677   \n",
              "..                ...                ...              ...   \n",
              "138         -0.629767          -0.238746        -0.811155   \n",
              "139         -0.140904           0.844835         0.576189   \n",
              "140          0.245887          -0.812573        -0.216590   \n",
              "141          0.060826          -0.754546        -1.163864   \n",
              "142          1.126056           0.166156         0.151450   \n",
              "\n",
              "     concave points_worst  symmetry_worst  fractal_dimension_worst  rpa_mean  \\\n",
              "0               -1.604394       -0.453546                -0.627140 -1.220482   \n",
              "1                0.772027        0.182046                -0.149178  1.326744   \n",
              "2               -1.209000       -1.587481                -1.313931 -0.561151   \n",
              "3               -0.655418        0.023557                -0.433945 -0.961531   \n",
              "4                0.181640        0.914039                 0.079752 -0.432566   \n",
              "..                    ...             ...                      ...       ...   \n",
              "138             -1.243101       -1.151227                 1.294200 -1.512038   \n",
              "139              0.536536       -0.080381                -0.080567 -0.042476   \n",
              "140             -0.219463       -0.121862                -0.642774 -0.443746   \n",
              "141             -1.350062       -0.857122                -0.019078 -1.217098   \n",
              "142             -1.210953       -0.275449                 1.193694 -1.827856   \n",
              "\n",
              "     rpa_worst  \n",
              "0    -1.162830  \n",
              "1     1.632175  \n",
              "2    -0.811901  \n",
              "3    -0.836129  \n",
              "4    -0.414780  \n",
              "..         ...  \n",
              "138  -1.399720  \n",
              "139  -0.204691  \n",
              "140   0.049594  \n",
              "141  -1.204724  \n",
              "142  -1.579611  \n",
              "\n",
              "[143 rows x 26 columns]"
            ],
            "text/html": [
              "\n",
              "  <div id=\"df-68a598c5-2f98-4180-b0df-02d0336dd24d\" class=\"colab-df-container\">\n",
              "    <div>\n",
              "<style scoped>\n",
              "    .dataframe tbody tr th:only-of-type {\n",
              "        vertical-align: middle;\n",
              "    }\n",
              "\n",
              "    .dataframe tbody tr th {\n",
              "        vertical-align: top;\n",
              "    }\n",
              "\n",
              "    .dataframe thead th {\n",
              "        text-align: right;\n",
              "    }\n",
              "</style>\n",
              "<table border=\"1\" class=\"dataframe\">\n",
              "  <thead>\n",
              "    <tr style=\"text-align: right;\">\n",
              "      <th></th>\n",
              "      <th>texture_mean</th>\n",
              "      <th>smoothness_mean</th>\n",
              "      <th>compactness_mean</th>\n",
              "      <th>concavity_mean</th>\n",
              "      <th>concave points_mean</th>\n",
              "      <th>symmetry_mean</th>\n",
              "      <th>fractal_dimension_mean</th>\n",
              "      <th>radius_se</th>\n",
              "      <th>texture_se</th>\n",
              "      <th>perimeter_se</th>\n",
              "      <th>...</th>\n",
              "      <th>fractal_dimension_se</th>\n",
              "      <th>texture_worst</th>\n",
              "      <th>smoothness_worst</th>\n",
              "      <th>compactness_worst</th>\n",
              "      <th>concavity_worst</th>\n",
              "      <th>concave points_worst</th>\n",
              "      <th>symmetry_worst</th>\n",
              "      <th>fractal_dimension_worst</th>\n",
              "      <th>rpa_mean</th>\n",
              "      <th>rpa_worst</th>\n",
              "    </tr>\n",
              "  </thead>\n",
              "  <tbody>\n",
              "    <tr>\n",
              "      <th>0</th>\n",
              "      <td>-0.823945</td>\n",
              "      <td>-0.243370</td>\n",
              "      <td>-1.249839</td>\n",
              "      <td>-1.207829</td>\n",
              "      <td>-1.311811</td>\n",
              "      <td>0.211122</td>\n",
              "      <td>-0.076267</td>\n",
              "      <td>-0.868788</td>\n",
              "      <td>-0.442776</td>\n",
              "      <td>-0.922268</td>\n",
              "      <td>...</td>\n",
              "      <td>-0.537106</td>\n",
              "      <td>-0.782481</td>\n",
              "      <td>-0.277700</td>\n",
              "      <td>-1.239268</td>\n",
              "      <td>-1.300368</td>\n",
              "      <td>-1.604394</td>\n",
              "      <td>-0.453546</td>\n",
              "      <td>-0.627140</td>\n",
              "      <td>-1.220482</td>\n",
              "      <td>-1.162830</td>\n",
              "    </tr>\n",
              "    <tr>\n",
              "      <th>1</th>\n",
              "      <td>0.400972</td>\n",
              "      <td>-0.281444</td>\n",
              "      <td>0.354382</td>\n",
              "      <td>0.305705</td>\n",
              "      <td>0.722003</td>\n",
              "      <td>1.006945</td>\n",
              "      <td>-1.028845</td>\n",
              "      <td>1.940492</td>\n",
              "      <td>-0.043648</td>\n",
              "      <td>1.779602</td>\n",
              "      <td>...</td>\n",
              "      <td>0.123554</td>\n",
              "      <td>0.366836</td>\n",
              "      <td>0.029231</td>\n",
              "      <td>0.276409</td>\n",
              "      <td>0.261518</td>\n",
              "      <td>0.772027</td>\n",
              "      <td>0.182046</td>\n",
              "      <td>-0.149178</td>\n",
              "      <td>1.326744</td>\n",
              "      <td>1.632175</td>\n",
              "    </tr>\n",
              "    <tr>\n",
              "      <th>2</th>\n",
              "      <td>-0.337270</td>\n",
              "      <td>-0.580064</td>\n",
              "      <td>-1.494072</td>\n",
              "      <td>-1.007455</td>\n",
              "      <td>-0.718891</td>\n",
              "      <td>-1.380524</td>\n",
              "      <td>-0.595576</td>\n",
              "      <td>-0.968729</td>\n",
              "      <td>2.063167</td>\n",
              "      <td>-1.020212</td>\n",
              "      <td>...</td>\n",
              "      <td>-0.917709</td>\n",
              "      <td>-0.608494</td>\n",
              "      <td>-1.699060</td>\n",
              "      <td>-1.511546</td>\n",
              "      <td>-1.278305</td>\n",
              "      <td>-1.209000</td>\n",
              "      <td>-1.587481</td>\n",
              "      <td>-1.313931</td>\n",
              "      <td>-0.561151</td>\n",
              "      <td>-0.811901</td>\n",
              "    </tr>\n",
              "    <tr>\n",
              "      <th>3</th>\n",
              "      <td>-0.537112</td>\n",
              "      <td>-0.673382</td>\n",
              "      <td>-1.186394</td>\n",
              "      <td>-0.978886</td>\n",
              "      <td>-0.924483</td>\n",
              "      <td>-0.870283</td>\n",
              "      <td>-0.518755</td>\n",
              "      <td>-0.939690</td>\n",
              "      <td>0.628856</td>\n",
              "      <td>-0.920688</td>\n",
              "      <td>...</td>\n",
              "      <td>-0.971884</td>\n",
              "      <td>1.651663</td>\n",
              "      <td>0.480599</td>\n",
              "      <td>-0.763572</td>\n",
              "      <td>-0.625906</td>\n",
              "      <td>-0.655418</td>\n",
              "      <td>0.023557</td>\n",
              "      <td>-0.433945</td>\n",
              "      <td>-0.961531</td>\n",
              "      <td>-0.836129</td>\n",
              "    </tr>\n",
              "    <tr>\n",
              "      <th>4</th>\n",
              "      <td>-0.259684</td>\n",
              "      <td>0.739090</td>\n",
              "      <td>0.020252</td>\n",
              "      <td>-0.795576</td>\n",
              "      <td>-0.661685</td>\n",
              "      <td>-0.405736</td>\n",
              "      <td>0.101957</td>\n",
              "      <td>-0.908765</td>\n",
              "      <td>-1.099242</td>\n",
              "      <td>-0.876456</td>\n",
              "      <td>...</td>\n",
              "      <td>-0.913118</td>\n",
              "      <td>-0.215350</td>\n",
              "      <td>1.252439</td>\n",
              "      <td>0.204841</td>\n",
              "      <td>-0.211677</td>\n",
              "      <td>0.181640</td>\n",
              "      <td>0.914039</td>\n",
              "      <td>0.079752</td>\n",
              "      <td>-0.432566</td>\n",
              "      <td>-0.414780</td>\n",
              "    </tr>\n",
              "    <tr>\n",
              "      <th>...</th>\n",
              "      <td>...</td>\n",
              "      <td>...</td>\n",
              "      <td>...</td>\n",
              "      <td>...</td>\n",
              "      <td>...</td>\n",
              "      <td>...</td>\n",
              "      <td>...</td>\n",
              "      <td>...</td>\n",
              "      <td>...</td>\n",
              "      <td>...</td>\n",
              "      <td>...</td>\n",
              "      <td>...</td>\n",
              "      <td>...</td>\n",
              "      <td>...</td>\n",
              "      <td>...</td>\n",
              "      <td>...</td>\n",
              "      <td>...</td>\n",
              "      <td>...</td>\n",
              "      <td>...</td>\n",
              "      <td>...</td>\n",
              "      <td>...</td>\n",
              "    </tr>\n",
              "    <tr>\n",
              "      <th>138</th>\n",
              "      <td>-1.225981</td>\n",
              "      <td>0.017176</td>\n",
              "      <td>0.801877</td>\n",
              "      <td>-0.226126</td>\n",
              "      <td>-0.731631</td>\n",
              "      <td>0.275854</td>\n",
              "      <td>4.193433</td>\n",
              "      <td>0.322205</td>\n",
              "      <td>-0.652000</td>\n",
              "      <td>0.031891</td>\n",
              "      <td>...</td>\n",
              "      <td>8.334749</td>\n",
              "      <td>-1.802981</td>\n",
              "      <td>-0.629767</td>\n",
              "      <td>-0.238746</td>\n",
              "      <td>-0.811155</td>\n",
              "      <td>-1.243101</td>\n",
              "      <td>-1.151227</td>\n",
              "      <td>1.294200</td>\n",
              "      <td>-1.512038</td>\n",
              "      <td>-1.399720</td>\n",
              "    </tr>\n",
              "    <tr>\n",
              "      <th>139</th>\n",
              "      <td>0.792160</td>\n",
              "      <td>0.280273</td>\n",
              "      <td>1.241270</td>\n",
              "      <td>0.662948</td>\n",
              "      <td>0.612604</td>\n",
              "      <td>-0.424996</td>\n",
              "      <td>0.313046</td>\n",
              "      <td>-0.518882</td>\n",
              "      <td>-0.241607</td>\n",
              "      <td>0.192868</td>\n",
              "      <td>...</td>\n",
              "      <td>0.131514</td>\n",
              "      <td>0.336873</td>\n",
              "      <td>-0.140904</td>\n",
              "      <td>0.844835</td>\n",
              "      <td>0.576189</td>\n",
              "      <td>0.536536</td>\n",
              "      <td>-0.080381</td>\n",
              "      <td>-0.080567</td>\n",
              "      <td>-0.042476</td>\n",
              "      <td>-0.204691</td>\n",
              "    </tr>\n",
              "    <tr>\n",
              "      <th>140</th>\n",
              "      <td>-0.052788</td>\n",
              "      <td>-0.531538</td>\n",
              "      <td>-0.992480</td>\n",
              "      <td>-0.581370</td>\n",
              "      <td>-0.590239</td>\n",
              "      <td>-0.881707</td>\n",
              "      <td>-0.890568</td>\n",
              "      <td>0.109123</td>\n",
              "      <td>-0.114726</td>\n",
              "      <td>0.018200</td>\n",
              "      <td>...</td>\n",
              "      <td>-0.875930</td>\n",
              "      <td>0.572609</td>\n",
              "      <td>0.245887</td>\n",
              "      <td>-0.812573</td>\n",
              "      <td>-0.216590</td>\n",
              "      <td>-0.219463</td>\n",
              "      <td>-0.121862</td>\n",
              "      <td>-0.642774</td>\n",
              "      <td>-0.443746</td>\n",
              "      <td>0.049594</td>\n",
              "    </tr>\n",
              "    <tr>\n",
              "      <th>141</th>\n",
              "      <td>-1.209523</td>\n",
              "      <td>0.091085</td>\n",
              "      <td>-0.421476</td>\n",
              "      <td>-0.875726</td>\n",
              "      <td>-0.940221</td>\n",
              "      <td>-0.748435</td>\n",
              "      <td>1.159011</td>\n",
              "      <td>-0.387564</td>\n",
              "      <td>2.367525</td>\n",
              "      <td>-0.375681</td>\n",
              "      <td>...</td>\n",
              "      <td>1.369121</td>\n",
              "      <td>-1.165587</td>\n",
              "      <td>0.060826</td>\n",
              "      <td>-0.754546</td>\n",
              "      <td>-1.163864</td>\n",
              "      <td>-1.350062</td>\n",
              "      <td>-0.857122</td>\n",
              "      <td>-0.019078</td>\n",
              "      <td>-1.217098</td>\n",
              "      <td>-1.204724</td>\n",
              "    </tr>\n",
              "    <tr>\n",
              "      <th>142</th>\n",
              "      <td>1.313194</td>\n",
              "      <td>-0.815227</td>\n",
              "      <td>0.141573</td>\n",
              "      <td>-0.142615</td>\n",
              "      <td>-1.108342</td>\n",
              "      <td>0.789902</td>\n",
              "      <td>2.305178</td>\n",
              "      <td>-0.834092</td>\n",
              "      <td>0.490346</td>\n",
              "      <td>-0.875403</td>\n",
              "      <td>...</td>\n",
              "      <td>1.733196</td>\n",
              "      <td>0.910546</td>\n",
              "      <td>1.126056</td>\n",
              "      <td>0.166156</td>\n",
              "      <td>0.151450</td>\n",
              "      <td>-1.210953</td>\n",
              "      <td>-0.275449</td>\n",
              "      <td>1.193694</td>\n",
              "      <td>-1.827856</td>\n",
              "      <td>-1.579611</td>\n",
              "    </tr>\n",
              "  </tbody>\n",
              "</table>\n",
              "<p>143 rows × 26 columns</p>\n",
              "</div>\n",
              "    <div class=\"colab-df-buttons\">\n",
              "\n",
              "  <div class=\"colab-df-container\">\n",
              "    <button class=\"colab-df-convert\" onclick=\"convertToInteractive('df-68a598c5-2f98-4180-b0df-02d0336dd24d')\"\n",
              "            title=\"Convert this dataframe to an interactive table.\"\n",
              "            style=\"display:none;\">\n",
              "\n",
              "  <svg xmlns=\"http://www.w3.org/2000/svg\" height=\"24px\" viewBox=\"0 -960 960 960\">\n",
              "    <path d=\"M120-120v-720h720v720H120Zm60-500h600v-160H180v160Zm220 220h160v-160H400v160Zm0 220h160v-160H400v160ZM180-400h160v-160H180v160Zm440 0h160v-160H620v160ZM180-180h160v-160H180v160Zm440 0h160v-160H620v160Z\"/>\n",
              "  </svg>\n",
              "    </button>\n",
              "\n",
              "  <style>\n",
              "    .colab-df-container {\n",
              "      display:flex;\n",
              "      gap: 12px;\n",
              "    }\n",
              "\n",
              "    .colab-df-convert {\n",
              "      background-color: #E8F0FE;\n",
              "      border: none;\n",
              "      border-radius: 50%;\n",
              "      cursor: pointer;\n",
              "      display: none;\n",
              "      fill: #1967D2;\n",
              "      height: 32px;\n",
              "      padding: 0 0 0 0;\n",
              "      width: 32px;\n",
              "    }\n",
              "\n",
              "    .colab-df-convert:hover {\n",
              "      background-color: #E2EBFA;\n",
              "      box-shadow: 0px 1px 2px rgba(60, 64, 67, 0.3), 0px 1px 3px 1px rgba(60, 64, 67, 0.15);\n",
              "      fill: #174EA6;\n",
              "    }\n",
              "\n",
              "    .colab-df-buttons div {\n",
              "      margin-bottom: 4px;\n",
              "    }\n",
              "\n",
              "    [theme=dark] .colab-df-convert {\n",
              "      background-color: #3B4455;\n",
              "      fill: #D2E3FC;\n",
              "    }\n",
              "\n",
              "    [theme=dark] .colab-df-convert:hover {\n",
              "      background-color: #434B5C;\n",
              "      box-shadow: 0px 1px 3px 1px rgba(0, 0, 0, 0.15);\n",
              "      filter: drop-shadow(0px 1px 2px rgba(0, 0, 0, 0.3));\n",
              "      fill: #FFFFFF;\n",
              "    }\n",
              "  </style>\n",
              "\n",
              "    <script>\n",
              "      const buttonEl =\n",
              "        document.querySelector('#df-68a598c5-2f98-4180-b0df-02d0336dd24d button.colab-df-convert');\n",
              "      buttonEl.style.display =\n",
              "        google.colab.kernel.accessAllowed ? 'block' : 'none';\n",
              "\n",
              "      async function convertToInteractive(key) {\n",
              "        const element = document.querySelector('#df-68a598c5-2f98-4180-b0df-02d0336dd24d');\n",
              "        const dataTable =\n",
              "          await google.colab.kernel.invokeFunction('convertToInteractive',\n",
              "                                                    [key], {});\n",
              "        if (!dataTable) return;\n",
              "\n",
              "        const docLinkHtml = 'Like what you see? Visit the ' +\n",
              "          '<a target=\"_blank\" href=https://colab.research.google.com/notebooks/data_table.ipynb>data table notebook</a>'\n",
              "          + ' to learn more about interactive tables.';\n",
              "        element.innerHTML = '';\n",
              "        dataTable['output_type'] = 'display_data';\n",
              "        await google.colab.output.renderOutput(dataTable, element);\n",
              "        const docLink = document.createElement('div');\n",
              "        docLink.innerHTML = docLinkHtml;\n",
              "        element.appendChild(docLink);\n",
              "      }\n",
              "    </script>\n",
              "  </div>\n",
              "\n",
              "\n",
              "    <div id=\"df-67f07f74-0ea1-4774-bceb-8197acbd5458\">\n",
              "      <button class=\"colab-df-quickchart\" onclick=\"quickchart('df-67f07f74-0ea1-4774-bceb-8197acbd5458')\"\n",
              "                title=\"Suggest charts\"\n",
              "                style=\"display:none;\">\n",
              "\n",
              "<svg xmlns=\"http://www.w3.org/2000/svg\" height=\"24px\"viewBox=\"0 0 24 24\"\n",
              "     width=\"24px\">\n",
              "    <g>\n",
              "        <path d=\"M19 3H5c-1.1 0-2 .9-2 2v14c0 1.1.9 2 2 2h14c1.1 0 2-.9 2-2V5c0-1.1-.9-2-2-2zM9 17H7v-7h2v7zm4 0h-2V7h2v10zm4 0h-2v-4h2v4z\"/>\n",
              "    </g>\n",
              "</svg>\n",
              "      </button>\n",
              "\n",
              "<style>\n",
              "  .colab-df-quickchart {\n",
              "      --bg-color: #E8F0FE;\n",
              "      --fill-color: #1967D2;\n",
              "      --hover-bg-color: #E2EBFA;\n",
              "      --hover-fill-color: #174EA6;\n",
              "      --disabled-fill-color: #AAA;\n",
              "      --disabled-bg-color: #DDD;\n",
              "  }\n",
              "\n",
              "  [theme=dark] .colab-df-quickchart {\n",
              "      --bg-color: #3B4455;\n",
              "      --fill-color: #D2E3FC;\n",
              "      --hover-bg-color: #434B5C;\n",
              "      --hover-fill-color: #FFFFFF;\n",
              "      --disabled-bg-color: #3B4455;\n",
              "      --disabled-fill-color: #666;\n",
              "  }\n",
              "\n",
              "  .colab-df-quickchart {\n",
              "    background-color: var(--bg-color);\n",
              "    border: none;\n",
              "    border-radius: 50%;\n",
              "    cursor: pointer;\n",
              "    display: none;\n",
              "    fill: var(--fill-color);\n",
              "    height: 32px;\n",
              "    padding: 0;\n",
              "    width: 32px;\n",
              "  }\n",
              "\n",
              "  .colab-df-quickchart:hover {\n",
              "    background-color: var(--hover-bg-color);\n",
              "    box-shadow: 0 1px 2px rgba(60, 64, 67, 0.3), 0 1px 3px 1px rgba(60, 64, 67, 0.15);\n",
              "    fill: var(--button-hover-fill-color);\n",
              "  }\n",
              "\n",
              "  .colab-df-quickchart-complete:disabled,\n",
              "  .colab-df-quickchart-complete:disabled:hover {\n",
              "    background-color: var(--disabled-bg-color);\n",
              "    fill: var(--disabled-fill-color);\n",
              "    box-shadow: none;\n",
              "  }\n",
              "\n",
              "  .colab-df-spinner {\n",
              "    border: 2px solid var(--fill-color);\n",
              "    border-color: transparent;\n",
              "    border-bottom-color: var(--fill-color);\n",
              "    animation:\n",
              "      spin 1s steps(1) infinite;\n",
              "  }\n",
              "\n",
              "  @keyframes spin {\n",
              "    0% {\n",
              "      border-color: transparent;\n",
              "      border-bottom-color: var(--fill-color);\n",
              "      border-left-color: var(--fill-color);\n",
              "    }\n",
              "    20% {\n",
              "      border-color: transparent;\n",
              "      border-left-color: var(--fill-color);\n",
              "      border-top-color: var(--fill-color);\n",
              "    }\n",
              "    30% {\n",
              "      border-color: transparent;\n",
              "      border-left-color: var(--fill-color);\n",
              "      border-top-color: var(--fill-color);\n",
              "      border-right-color: var(--fill-color);\n",
              "    }\n",
              "    40% {\n",
              "      border-color: transparent;\n",
              "      border-right-color: var(--fill-color);\n",
              "      border-top-color: var(--fill-color);\n",
              "    }\n",
              "    60% {\n",
              "      border-color: transparent;\n",
              "      border-right-color: var(--fill-color);\n",
              "    }\n",
              "    80% {\n",
              "      border-color: transparent;\n",
              "      border-right-color: var(--fill-color);\n",
              "      border-bottom-color: var(--fill-color);\n",
              "    }\n",
              "    90% {\n",
              "      border-color: transparent;\n",
              "      border-bottom-color: var(--fill-color);\n",
              "    }\n",
              "  }\n",
              "</style>\n",
              "\n",
              "      <script>\n",
              "        async function quickchart(key) {\n",
              "          const quickchartButtonEl =\n",
              "            document.querySelector('#' + key + ' button');\n",
              "          quickchartButtonEl.disabled = true;  // To prevent multiple clicks.\n",
              "          quickchartButtonEl.classList.add('colab-df-spinner');\n",
              "          try {\n",
              "            const charts = await google.colab.kernel.invokeFunction(\n",
              "                'suggestCharts', [key], {});\n",
              "          } catch (error) {\n",
              "            console.error('Error during call to suggestCharts:', error);\n",
              "          }\n",
              "          quickchartButtonEl.classList.remove('colab-df-spinner');\n",
              "          quickchartButtonEl.classList.add('colab-df-quickchart-complete');\n",
              "        }\n",
              "        (() => {\n",
              "          let quickchartButtonEl =\n",
              "            document.querySelector('#df-67f07f74-0ea1-4774-bceb-8197acbd5458 button');\n",
              "          quickchartButtonEl.style.display =\n",
              "            google.colab.kernel.accessAllowed ? 'block' : 'none';\n",
              "        })();\n",
              "      </script>\n",
              "    </div>\n",
              "\n",
              "  <div id=\"id_150c0179-8a1f-44db-ad3e-6485e0d9874b\">\n",
              "    <style>\n",
              "      .colab-df-generate {\n",
              "        background-color: #E8F0FE;\n",
              "        border: none;\n",
              "        border-radius: 50%;\n",
              "        cursor: pointer;\n",
              "        display: none;\n",
              "        fill: #1967D2;\n",
              "        height: 32px;\n",
              "        padding: 0 0 0 0;\n",
              "        width: 32px;\n",
              "      }\n",
              "\n",
              "      .colab-df-generate:hover {\n",
              "        background-color: #E2EBFA;\n",
              "        box-shadow: 0px 1px 2px rgba(60, 64, 67, 0.3), 0px 1px 3px 1px rgba(60, 64, 67, 0.15);\n",
              "        fill: #174EA6;\n",
              "      }\n",
              "\n",
              "      [theme=dark] .colab-df-generate {\n",
              "        background-color: #3B4455;\n",
              "        fill: #D2E3FC;\n",
              "      }\n",
              "\n",
              "      [theme=dark] .colab-df-generate:hover {\n",
              "        background-color: #434B5C;\n",
              "        box-shadow: 0px 1px 3px 1px rgba(0, 0, 0, 0.15);\n",
              "        filter: drop-shadow(0px 1px 2px rgba(0, 0, 0, 0.3));\n",
              "        fill: #FFFFFF;\n",
              "      }\n",
              "    </style>\n",
              "    <button class=\"colab-df-generate\" onclick=\"generateWithVariable('X_test')\"\n",
              "            title=\"Generate code using this dataframe.\"\n",
              "            style=\"display:none;\">\n",
              "\n",
              "  <svg xmlns=\"http://www.w3.org/2000/svg\" height=\"24px\"viewBox=\"0 0 24 24\"\n",
              "       width=\"24px\">\n",
              "    <path d=\"M7,19H8.4L18.45,9,17,7.55,7,17.6ZM5,21V16.75L18.45,3.32a2,2,0,0,1,2.83,0l1.4,1.43a1.91,1.91,0,0,1,.58,1.4,1.91,1.91,0,0,1-.58,1.4L9.25,21ZM18.45,9,17,7.55Zm-12,3A5.31,5.31,0,0,0,4.9,8.1,5.31,5.31,0,0,0,1,6.5,5.31,5.31,0,0,0,4.9,4.9,5.31,5.31,0,0,0,6.5,1,5.31,5.31,0,0,0,8.1,4.9,5.31,5.31,0,0,0,12,6.5,5.46,5.46,0,0,0,6.5,12Z\"/>\n",
              "  </svg>\n",
              "    </button>\n",
              "    <script>\n",
              "      (() => {\n",
              "      const buttonEl =\n",
              "        document.querySelector('#id_150c0179-8a1f-44db-ad3e-6485e0d9874b button.colab-df-generate');\n",
              "      buttonEl.style.display =\n",
              "        google.colab.kernel.accessAllowed ? 'block' : 'none';\n",
              "\n",
              "      buttonEl.onclick = () => {\n",
              "        google.colab.notebook.generateWithVariable('X_test');\n",
              "      }\n",
              "      })();\n",
              "    </script>\n",
              "  </div>\n",
              "\n",
              "    </div>\n",
              "  </div>\n"
            ],
            "application/vnd.google.colaboratory.intrinsic+json": {
              "type": "dataframe",
              "variable_name": "X_test"
            }
          },
          "metadata": {},
          "execution_count": 449
        }
      ]
    },
    {
      "cell_type": "code",
      "source": [
        "log_test_preds = logistician.predict(X_test)\n",
        "log_test_probas = logistician.predict_proba(X_test)"
      ],
      "metadata": {
        "id": "yR-2eMasH7HE"
      },
      "execution_count": 450,
      "outputs": []
    },
    {
      "cell_type": "code",
      "source": [
        "# Convert Logistic Regression predictions from strings ('B', 'M') to integers (0, 1)\n",
        "log_test_preds_num = np.where(log_test_preds == 'B', 0, 1)\n",
        "\n",
        "log_test_confusion = model_evaluation_num(y_test_num, log_test_preds_num, log_test_probas)"
      ],
      "metadata": {
        "colab": {
          "base_uri": "https://localhost:8080/"
        },
        "id": "o4ij6mp1IC0L",
        "outputId": "dba4c929-d0b6-4e4e-8945-87e7e9fa9992"
      },
      "execution_count": 454,
      "outputs": [
        {
          "output_type": "stream",
          "name": "stdout",
          "text": [
            "Validation Precision: 0.9600\n",
            "Validation Recall: 0.9600\n",
            "Validation F1-score: 0.9600\n",
            "Validation BinaryCrossEntropy Loss: 0.1744\n",
            "\n",
            "Confusion Matrix:\n",
            "[[65  3]\n",
            " [ 3 72]]\n",
            "\n",
            "Classification Report:\n",
            "              precision    recall  f1-score   support\n",
            "\n",
            "           0       0.96      0.96      0.96        75\n",
            "           1       0.96      0.96      0.96        68\n",
            "\n",
            "    accuracy                           0.96       143\n",
            "   macro avg       0.96      0.96      0.96       143\n",
            "weighted avg       0.96      0.96      0.96       143\n",
            "\n"
          ]
        }
      ]
    },
    {
      "cell_type": "code",
      "source": [
        "confusion_matrix_heatmap(log_test_confusion, \"Logistic Regression Test Confusion Matrix\")"
      ],
      "metadata": {
        "colab": {
          "base_uri": "https://localhost:8080/",
          "height": 472
        },
        "id": "fHqOCp88IKD2",
        "outputId": "72c2fa2c-77c7-4eb2-b4aa-9e96231dd51c"
      },
      "execution_count": 455,
      "outputs": [
        {
          "output_type": "display_data",
          "data": {
            "text/plain": [
              "<Figure size 640x480 with 2 Axes>"
            ],
            "image/png": "[encoded data removed]"
          },
          "metadata": {}
        }
      ]
    },
    {
      "cell_type": "code",
      "source": [
        "forest_test_preds = forest.predict(X_test)\n",
        "forest_test_probas = forest.predict_proba(X_test)"
      ],
      "metadata": {
        "colab": {
          "base_uri": "https://localhost:8080/"
        },
        "id": "kGlz_i02Iq08",
        "outputId": "0e3e3597-7160-4f8f-8452-fa6be7c8d341"
      },
      "execution_count": 458,
      "outputs": [
        {
          "output_type": "stream",
          "name": "stderr",
          "text": [
            "[Parallel(n_jobs=2)]: Using backend ThreadingBackend with 2 concurrent workers.\n",
            "[Parallel(n_jobs=2)]: Done  46 tasks      | elapsed:    0.0s\n",
            "[Parallel(n_jobs=2)]: Done  50 out of  50 | elapsed:    0.0s finished\n",
            "[Parallel(n_jobs=2)]: Using backend ThreadingBackend with 2 concurrent workers.\n",
            "[Parallel(n_jobs=2)]: Done  46 tasks      | elapsed:    0.0s\n",
            "[Parallel(n_jobs=2)]: Done  50 out of  50 | elapsed:    0.0s finished\n"
          ]
        }
      ]
    },
    {
      "cell_type": "code",
      "source": [
        "def change_to_numerical(y_preds):\n",
        "  y_preds_num = np.where(y_preds == 'B', 0, 1)\n",
        "  return y_preds_num"
      ],
      "metadata": {
        "id": "j56BtgY3I-pI"
      },
      "execution_count": 461,
      "outputs": []
    },
    {
      "cell_type": "code",
      "source": [
        "forest_test_preds_num = change_to_numerical(forest_test_preds)\n",
        "\n",
        "forest_test_confusion = model_evaluation_num(y_test_num, forest_test_preds_num, forest_test_probas)"
      ],
      "metadata": {
        "colab": {
          "base_uri": "https://localhost:8080/"
        },
        "id": "fqyG4sgqIzun",
        "outputId": "27b611bb-05a3-469d-9e73-89c4c7a9e819"
      },
      "execution_count": 462,
      "outputs": [
        {
          "output_type": "stream",
          "name": "stdout",
          "text": [
            "Validation Precision: 0.9487\n",
            "Validation Recall: 0.9867\n",
            "Validation F1-score: 0.9673\n",
            "Validation BinaryCrossEntropy Loss: 0.1500\n",
            "\n",
            "Confusion Matrix:\n",
            "[[64  4]\n",
            " [ 1 74]]\n",
            "\n",
            "Classification Report:\n",
            "              precision    recall  f1-score   support\n",
            "\n",
            "           0       0.95      0.99      0.97        75\n",
            "           1       0.98      0.94      0.96        68\n",
            "\n",
            "    accuracy                           0.97       143\n",
            "   macro avg       0.97      0.96      0.96       143\n",
            "weighted avg       0.97      0.97      0.96       143\n",
            "\n"
          ]
        }
      ]
    },
    {
      "cell_type": "code",
      "source": [
        "confusion_matrix_heatmap(forest_test_confusion, \"Random Forest Test Confusion Matrix\")"
      ],
      "metadata": {
        "colab": {
          "base_uri": "https://localhost:8080/",
          "height": 472
        },
        "id": "c-9IcDcdJOT6",
        "outputId": "5d2d9a1e-8981-4e10-ec7c-23b68b55dd3e"
      },
      "execution_count": 464,
      "outputs": [
        {
          "output_type": "display_data",
          "data": {
            "text/plain": [
              "<Figure size 640x480 with 2 Axes>"
            ],
            "image/png": "[encoded data removed]"
          },
          "metadata": {}
        }
      ]
    },
    {
      "cell_type": "code",
      "source": [
        "svm_test_preds = svm.predict(X_test)\n",
        "svm_test_probas = svm.predict_proba(X_test)"
      ],
      "metadata": {
        "id": "MO0VGrqnJTx2"
      },
      "execution_count": 465,
      "outputs": []
    },
    {
      "cell_type": "code",
      "source": [
        "svm_test_preds_num = change_to_numerical(svm_test_preds)\n",
        "\n",
        "svm_test_confusion = model_evaluation_num(y_test_num, svm_test_preds_num, svm_test_probas)"
      ],
      "metadata": {
        "colab": {
          "base_uri": "https://localhost:8080/"
        },
        "id": "3srQEB0VJZDd",
        "outputId": "9dd9ebab-b656-4b04-d87f-089616bbcfb6"
      },
      "execution_count": 466,
      "outputs": [
        {
          "output_type": "stream",
          "name": "stdout",
          "text": [
            "Validation Precision: 0.9359\n",
            "Validation Recall: 0.9733\n",
            "Validation F1-score: 0.9542\n",
            "Validation BinaryCrossEntropy Loss: 0.1222\n",
            "\n",
            "Confusion Matrix:\n",
            "[[63  5]\n",
            " [ 2 73]]\n",
            "\n",
            "Classification Report:\n",
            "              precision    recall  f1-score   support\n",
            "\n",
            "           0       0.94      0.97      0.95        75\n",
            "           1       0.97      0.93      0.95        68\n",
            "\n",
            "    accuracy                           0.95       143\n",
            "   macro avg       0.95      0.95      0.95       143\n",
            "weighted avg       0.95      0.95      0.95       143\n",
            "\n"
          ]
        }
      ]
    },
    {
      "cell_type": "code",
      "source": [
        "confusion_matrix_heatmap(svm_test_confusion, \"SVM Test Confusion Matrix\")"
      ],
      "metadata": {
        "colab": {
          "base_uri": "https://localhost:8080/",
          "height": 472
        },
        "id": "MO27b4ycJart",
        "outputId": "d6a241d8-5035-4559-cc2f-598733647856"
      },
      "execution_count": 467,
      "outputs": [
        {
          "output_type": "display_data",
          "data": {
            "text/plain": [
              "<Figure size 640x480 with 2 Axes>"
            ],
            "image/png": "[encoded data removed]"
          },
          "metadata": {}
        }
      ]
    },
    {
      "cell_type": "code",
      "source": [
        "xgbc_test_preds = xgbc.predict(X_test)\n",
        "xgbc_test_probas = xgbc.predict_proba(X_test)"
      ],
      "metadata": {
        "id": "9HcvUUN4Jc-1"
      },
      "execution_count": 468,
      "outputs": []
    },
    {
      "cell_type": "code",
      "source": [
        "xgbc_test_confusion = xgbc_test_confusion = model_evaluation_num(y_test_num, xgbc_test_preds, xgbc_test_probas)"
      ],
      "metadata": {
        "colab": {
          "base_uri": "https://localhost:8080/"
        },
        "id": "HDyd3TKfJfXQ",
        "outputId": "110b28ef-aa7e-4fbe-9b63-ca85ec37aeb2"
      },
      "execution_count": 471,
      "outputs": [
        {
          "output_type": "stream",
          "name": "stdout",
          "text": [
            "Validation Precision: 0.9605\n",
            "Validation Recall: 0.9733\n",
            "Validation F1-score: 0.9669\n",
            "Validation BinaryCrossEntropy Loss: 0.1256\n",
            "\n",
            "Confusion Matrix:\n",
            "[[65  3]\n",
            " [ 2 73]]\n",
            "\n",
            "Classification Report:\n",
            "              precision    recall  f1-score   support\n",
            "\n",
            "           0       0.96      0.97      0.97        75\n",
            "           1       0.97      0.96      0.96        68\n",
            "\n",
            "    accuracy                           0.97       143\n",
            "   macro avg       0.97      0.96      0.96       143\n",
            "weighted avg       0.97      0.97      0.97       143\n",
            "\n"
          ]
        }
      ]
    },
    {
      "cell_type": "code",
      "source": [
        "confusion_matrix_heatmap(xgbc_test_confusion, \"XGBoost Test Confusion Matrix\")"
      ],
      "metadata": {
        "colab": {
          "base_uri": "https://localhost:8080/",
          "height": 472
        },
        "id": "4bO3GGkCJg34",
        "outputId": "19591704-c455-4df6-cdb9-729ff6dd7085"
      },
      "execution_count": 472,
      "outputs": [
        {
          "output_type": "display_data",
          "data": {
            "text/plain": [
              "<Figure size 640x480 with 2 Axes>"
            ],
            "image/png": "[encoded data removed]"
          },
          "metadata": {}
        }
      ]
    },
    {
      "cell_type": "code",
      "source": [
        "nn_test_preds = []\n",
        "nn_test_probas = []\n",
        "nn_y_test = [] # Variable to store the true labels from the test set\n",
        "\n",
        "with torch.no_grad():\n",
        "  model.eval()\n",
        "  for inputs, labels in test_nn: # Use test_nn DataLoader\n",
        "    inputs, labels = inputs.to(device), labels.to(device)\n",
        "    outputs = model(inputs)\n",
        "    nn_test_preds.append((outputs > threshold).cpu().numpy()) # Use the threshold determined from validation\n",
        "    nn_test_probas.append(outputs.cpu().numpy())\n",
        "    nn_y_test.append(labels.cpu().numpy()) # Collect true labels from the test set\n",
        "\n",
        "nn_test_preds = np.concatenate(nn_test_preds)\n",
        "nn_test_probas = np.concatenate(nn_test_probas)\n",
        "nn_y_test = np.concatenate(nn_y_test)"
      ],
      "metadata": {
        "id": "6aR474CWJpwZ"
      },
      "execution_count": 479,
      "outputs": []
    },
    {
      "cell_type": "code",
      "metadata": {
        "colab": {
          "base_uri": "https://localhost:8080/"
        },
        "id": "a5acaf20",
        "outputId": "410bdb10-f8f8-4a80-c6b5-a282cbdd78a5"
      },
      "source": [
        "nn_y_test = nn_y_test.astype(int) # Ensure true labels are integers\n",
        "nn_test_preds_int = nn_test_preds.flatten().astype(int) # Ensure predictions are integers\n",
        "\n",
        "nn_test_confusion = model_evaluation_num(nn_y_test, nn_test_preds_int, nn_test_probas)"
      ],
      "execution_count": 480,
      "outputs": [
        {
          "output_type": "stream",
          "name": "stdout",
          "text": [
            "Validation Precision: 0.9600\n",
            "Validation Recall: 0.9600\n",
            "Validation F1-score: 0.9600\n",
            "Validation BinaryCrossEntropy Loss: 0.2462\n",
            "\n",
            "Confusion Matrix:\n",
            "[[65  3]\n",
            " [ 3 72]]\n",
            "\n",
            "Classification Report:\n",
            "              precision    recall  f1-score   support\n",
            "\n",
            "           0       0.96      0.96      0.96        75\n",
            "           1       0.96      0.96      0.96        68\n",
            "\n",
            "    accuracy                           0.96       143\n",
            "   macro avg       0.96      0.96      0.96       143\n",
            "weighted avg       0.96      0.96      0.96       143\n",
            "\n"
          ]
        }
      ]
    },
    {
      "cell_type": "code",
      "metadata": {
        "colab": {
          "base_uri": "https://localhost:8080/",
          "height": 472
        },
        "id": "379253f1",
        "outputId": "43675ad7-0b4c-4d42-85dd-fe962eac5a21"
      },
      "source": [
        "confusion_matrix_heatmap(nn_test_confusion, \"Neural Network Test Confusion Matrix\")"
      ],
      "execution_count": 481,
      "outputs": [
        {
          "output_type": "display_data",
          "data": {
            "text/plain": [
              "<Figure size 640x480 with 2 Axes>"
            ],
            "image/png": "[encoded data removed]"
          },
          "metadata": {}
        }
      ]
    },
    {
      "cell_type": "markdown",
      "source": [
        "# Conclusion\n",
        "Basically Tree models did bad on the validation set, but they are surprisingly good at extrapolating and predicting new data!\n",
        "\n",
        "The worst performer was the Support Vector Machine here, probably due to overfitting to the training and validation data a bit...\n",
        "\n",
        "Logistic Regression and the Neural Network surprisingly had the same confusion matrix, although the Neural Network had a much higher BCELoss than any of them, even though it had over 3000 learnable parameters.\n",
        "\n",
        "Just use Random Forests for everything, it gets the job done and it's interpretable enough!"
      ],
      "metadata": {
        "id": "p4z6Qa3bKKyT"
      }
    },
    {
      "cell_type": "code",
      "source": [
        "eval_metrics = pd.DataFrame({\n",
        "    \"Precision\": [0.9600, 0.9487, 0.9359, 0.9605, 0.9600],\n",
        "    \"Recall\": [0.9600, 0.9867, 0.9733, 0.9733, 0.9600],\n",
        "    \"F1-Score\": [0.9600, 0.9673, 0.9542, 0.9669, 0.9600],\n",
        "    \"BCE Loss\": [0.1744, 0.1500, 0.1222, 0.1256, 0.2462]\n",
        "}, index=[\"Logistic Regression\", \"Random Forest\", \"SVM\", \"XGBoost\", \"Neural Network\"])\n",
        "\n",
        "display(eval_metrics)"
      ],
      "metadata": {
        "colab": {
          "base_uri": "https://localhost:8080/",
          "height": 206
        },
        "id": "QYY4g5uaLIY0",
        "outputId": "3b5c6a20-fdf1-43d2-d47d-11d2b806aefb"
      },
      "execution_count": 507,
      "outputs": [
        {
          "output_type": "display_data",
          "data": {
            "text/plain": [
              "                     Precision  Recall  F1-Score  BCE Loss\n",
              "Logistic Regression     0.9600  0.9600    0.9600    0.1744\n",
              "Random Forest           0.9487  0.9867    0.9673    0.1500\n",
              "SVM                     0.9359  0.9733    0.9542    0.1222\n",
              "XGBoost                 0.9605  0.9733    0.9669    0.1256\n",
              "Neural Network          0.9600  0.9600    0.9600    0.2462"
            ],
            "text/html": [
              "\n",
              "  <div id=\"df-f5590733-d9e3-4845-9ed1-0f1255d3dcaa\" class=\"colab-df-container\">\n",
              "    <div>\n",
              "<style scoped>\n",
              "    .dataframe tbody tr th:only-of-type {\n",
              "        vertical-align: middle;\n",
              "    }\n",
              "\n",
              "    .dataframe tbody tr th {\n",
              "        vertical-align: top;\n",
              "    }\n",
              "\n",
              "    .dataframe thead th {\n",
              "        text-align: right;\n",
              "    }\n",
              "</style>\n",
              "<table border=\"1\" class=\"dataframe\">\n",
              "  <thead>\n",
              "    <tr style=\"text-align: right;\">\n",
              "      <th></th>\n",
              "      <th>Precision</th>\n",
              "      <th>Recall</th>\n",
              "      <th>F1-Score</th>\n",
              "      <th>BCE Loss</th>\n",
              "    </tr>\n",
              "  </thead>\n",
              "  <tbody>\n",
              "    <tr>\n",
              "      <th>Logistic Regression</th>\n",
              "      <td>0.9600</td>\n",
              "      <td>0.9600</td>\n",
              "      <td>0.9600</td>\n",
              "      <td>0.1744</td>\n",
              "    </tr>\n",
              "    <tr>\n",
              "      <th>Random Forest</th>\n",
              "      <td>0.9487</td>\n",
              "      <td>0.9867</td>\n",
              "      <td>0.9673</td>\n",
              "      <td>0.1500</td>\n",
              "    </tr>\n",
              "    <tr>\n",
              "      <th>SVM</th>\n",
              "      <td>0.9359</td>\n",
              "      <td>0.9733</td>\n",
              "      <td>0.9542</td>\n",
              "      <td>0.1222</td>\n",
              "    </tr>\n",
              "    <tr>\n",
              "      <th>XGBoost</th>\n",
              "      <td>0.9605</td>\n",
              "      <td>0.9733</td>\n",
              "      <td>0.9669</td>\n",
              "      <td>0.1256</td>\n",
              "    </tr>\n",
              "    <tr>\n",
              "      <th>Neural Network</th>\n",
              "      <td>0.9600</td>\n",
              "      <td>0.9600</td>\n",
              "      <td>0.9600</td>\n",
              "      <td>0.2462</td>\n",
              "    </tr>\n",
              "  </tbody>\n",
              "</table>\n",
              "</div>\n",
              "    <div class=\"colab-df-buttons\">\n",
              "\n",
              "  <div class=\"colab-df-container\">\n",
              "    <button class=\"colab-df-convert\" onclick=\"convertToInteractive('df-f5590733-d9e3-4845-9ed1-0f1255d3dcaa')\"\n",
              "            title=\"Convert this dataframe to an interactive table.\"\n",
              "            style=\"display:none;\">\n",
              "\n",
              "  <svg xmlns=\"http://www.w3.org/2000/svg\" height=\"24px\" viewBox=\"0 -960 960 960\">\n",
              "    <path d=\"M120-120v-720h720v720H120Zm60-500h600v-160H180v160Zm220 220h160v-160H400v160Zm0 220h160v-160H400v160ZM180-400h160v-160H180v160Zm440 0h160v-160H620v160ZM180-180h160v-160H180v160Zm440 0h160v-160H620v160Z\"/>\n",
              "  </svg>\n",
              "    </button>\n",
              "\n",
              "  <style>\n",
              "    .colab-df-container {\n",
              "      display:flex;\n",
              "      gap: 12px;\n",
              "    }\n",
              "\n",
              "    .colab-df-convert {\n",
              "      background-color: #E8F0FE;\n",
              "      border: none;\n",
              "      border-radius: 50%;\n",
              "      cursor: pointer;\n",
              "      display: none;\n",
              "      fill: #1967D2;\n",
              "      height: 32px;\n",
              "      padding: 0 0 0 0;\n",
              "      width: 32px;\n",
              "    }\n",
              "\n",
              "    .colab-df-convert:hover {\n",
              "      background-color: #E2EBFA;\n",
              "      box-shadow: 0px 1px 2px rgba(60, 64, 67, 0.3), 0px 1px 3px 1px rgba(60, 64, 67, 0.15);\n",
              "      fill: #174EA6;\n",
              "    }\n",
              "\n",
              "    .colab-df-buttons div {\n",
              "      margin-bottom: 4px;\n",
              "    }\n",
              "\n",
              "    [theme=dark] .colab-df-convert {\n",
              "      background-color: #3B4455;\n",
              "      fill: #D2E3FC;\n",
              "    }\n",
              "\n",
              "    [theme=dark] .colab-df-convert:hover {\n",
              "      background-color: #434B5C;\n",
              "      box-shadow: 0px 1px 3px 1px rgba(0, 0, 0, 0.15);\n",
              "      filter: drop-shadow(0px 1px 2px rgba(0, 0, 0, 0.3));\n",
              "      fill: #FFFFFF;\n",
              "    }\n",
              "  </style>\n",
              "\n",
              "    <script>\n",
              "      const buttonEl =\n",
              "        document.querySelector('#df-f5590733-d9e3-4845-9ed1-0f1255d3dcaa button.colab-df-convert');\n",
              "      buttonEl.style.display =\n",
              "        google.colab.kernel.accessAllowed ? 'block' : 'none';\n",
              "\n",
              "      async function convertToInteractive(key) {\n",
              "        const element = document.querySelector('#df-f5590733-d9e3-4845-9ed1-0f1255d3dcaa');\n",
              "        const dataTable =\n",
              "          await google.colab.kernel.invokeFunction('convertToInteractive',\n",
              "                                                    [key], {});\n",
              "        if (!dataTable) return;\n",
              "\n",
              "        const docLinkHtml = 'Like what you see? Visit the ' +\n",
              "          '<a target=\"_blank\" href=https://colab.research.google.com/notebooks/data_table.ipynb>data table notebook</a>'\n",
              "          + ' to learn more about interactive tables.';\n",
              "        element.innerHTML = '';\n",
              "        dataTable['output_type'] = 'display_data';\n",
              "        await google.colab.output.renderOutput(dataTable, element);\n",
              "        const docLink = document.createElement('div');\n",
              "        docLink.innerHTML = docLinkHtml;\n",
              "        element.appendChild(docLink);\n",
              "      }\n",
              "    </script>\n",
              "  </div>\n",
              "\n",
              "\n",
              "    <div id=\"df-82e965a7-7c7d-4f37-ba73-14b838a1bae9\">\n",
              "      <button class=\"colab-df-quickchart\" onclick=\"quickchart('df-82e965a7-7c7d-4f37-ba73-14b838a1bae9')\"\n",
              "                title=\"Suggest charts\"\n",
              "                style=\"display:none;\">\n",
              "\n",
              "<svg xmlns=\"http://www.w3.org/2000/svg\" height=\"24px\"viewBox=\"0 0 24 24\"\n",
              "     width=\"24px\">\n",
              "    <g>\n",
              "        <path d=\"M19 3H5c-1.1 0-2 .9-2 2v14c0 1.1.9 2 2 2h14c1.1 0 2-.9 2-2V5c0-1.1-.9-2-2-2zM9 17H7v-7h2v7zm4 0h-2V7h2v10zm4 0h-2v-4h2v4z\"/>\n",
              "    </g>\n",
              "</svg>\n",
              "      </button>\n",
              "\n",
              "<style>\n",
              "  .colab-df-quickchart {\n",
              "      --bg-color: #E8F0FE;\n",
              "      --fill-color: #1967D2;\n",
              "      --hover-bg-color: #E2EBFA;\n",
              "      --hover-fill-color: #174EA6;\n",
              "      --disabled-fill-color: #AAA;\n",
              "      --disabled-bg-color: #DDD;\n",
              "  }\n",
              "\n",
              "  [theme=dark] .colab-df-quickchart {\n",
              "      --bg-color: #3B4455;\n",
              "      --fill-color: #D2E3FC;\n",
              "      --hover-bg-color: #434B5C;\n",
              "      --hover-fill-color: #FFFFFF;\n",
              "      --disabled-bg-color: #3B4455;\n",
              "      --disabled-fill-color: #666;\n",
              "  }\n",
              "\n",
              "  .colab-df-quickchart {\n",
              "    background-color: var(--bg-color);\n",
              "    border: none;\n",
              "    border-radius: 50%;\n",
              "    cursor: pointer;\n",
              "    display: none;\n",
              "    fill: var(--fill-color);\n",
              "    height: 32px;\n",
              "    padding: 0;\n",
              "    width: 32px;\n",
              "  }\n",
              "\n",
              "  .colab-df-quickchart:hover {\n",
              "    background-color: var(--hover-bg-color);\n",
              "    box-shadow: 0 1px 2px rgba(60, 64, 67, 0.3), 0 1px 3px 1px rgba(60, 64, 67, 0.15);\n",
              "    fill: var(--button-hover-fill-color);\n",
              "  }\n",
              "\n",
              "  .colab-df-quickchart-complete:disabled,\n",
              "  .colab-df-quickchart-complete:disabled:hover {\n",
              "    background-color: var(--disabled-bg-color);\n",
              "    fill: var(--disabled-fill-color);\n",
              "    box-shadow: none;\n",
              "  }\n",
              "\n",
              "  .colab-df-spinner {\n",
              "    border: 2px solid var(--fill-color);\n",
              "    border-color: transparent;\n",
              "    border-bottom-color: var(--fill-color);\n",
              "    animation:\n",
              "      spin 1s steps(1) infinite;\n",
              "  }\n",
              "\n",
              "  @keyframes spin {\n",
              "    0% {\n",
              "      border-color: transparent;\n",
              "      border-bottom-color: var(--fill-color);\n",
              "      border-left-color: var(--fill-color);\n",
              "    }\n",
              "    20% {\n",
              "      border-color: transparent;\n",
              "      border-left-color: var(--fill-color);\n",
              "      border-top-color: var(--fill-color);\n",
              "    }\n",
              "    30% {\n",
              "      border-color: transparent;\n",
              "      border-left-color: var(--fill-color);\n",
              "      border-top-color: var(--fill-color);\n",
              "      border-right-color: var(--fill-color);\n",
              "    }\n",
              "    40% {\n",
              "      border-color: transparent;\n",
              "      border-right-color: var(--fill-color);\n",
              "      border-top-color: var(--fill-color);\n",
              "    }\n",
              "    60% {\n",
              "      border-color: transparent;\n",
              "      border-right-color: var(--fill-color);\n",
              "    }\n",
              "    80% {\n",
              "      border-color: transparent;\n",
              "      border-right-color: var(--fill-color);\n",
              "      border-bottom-color: var(--fill-color);\n",
              "    }\n",
              "    90% {\n",
              "      border-color: transparent;\n",
              "      border-bottom-color: var(--fill-color);\n",
              "    }\n",
              "  }\n",
              "</style>\n",
              "\n",
              "      <script>\n",
              "        async function quickchart(key) {\n",
              "          const quickchartButtonEl =\n",
              "            document.querySelector('#' + key + ' button');\n",
              "          quickchartButtonEl.disabled = true;  // To prevent multiple clicks.\n",
              "          quickchartButtonEl.classList.add('colab-df-spinner');\n",
              "          try {\n",
              "            const charts = await google.colab.kernel.invokeFunction(\n",
              "                'suggestCharts', [key], {});\n",
              "          } catch (error) {\n",
              "            console.error('Error during call to suggestCharts:', error);\n",
              "          }\n",
              "          quickchartButtonEl.classList.remove('colab-df-spinner');\n",
              "          quickchartButtonEl.classList.add('colab-df-quickchart-complete');\n",
              "        }\n",
              "        (() => {\n",
              "          let quickchartButtonEl =\n",
              "            document.querySelector('#df-82e965a7-7c7d-4f37-ba73-14b838a1bae9 button');\n",
              "          quickchartButtonEl.style.display =\n",
              "            google.colab.kernel.accessAllowed ? 'block' : 'none';\n",
              "        })();\n",
              "      </script>\n",
              "    </div>\n",
              "\n",
              "  <div id=\"id_837dfc33-1556-4229-8f34-40f42a816ee5\">\n",
              "    <style>\n",
              "      .colab-df-generate {\n",
              "        background-color: #E8F0FE;\n",
              "        border: none;\n",
              "        border-radius: 50%;\n",
              "        cursor: pointer;\n",
              "        display: none;\n",
              "        fill: #1967D2;\n",
              "        height: 32px;\n",
              "        padding: 0 0 0 0;\n",
              "        width: 32px;\n",
              "      }\n",
              "\n",
              "      .colab-df-generate:hover {\n",
              "        background-color: #E2EBFA;\n",
              "        box-shadow: 0px 1px 2px rgba(60, 64, 67, 0.3), 0px 1px 3px 1px rgba(60, 64, 67, 0.15);\n",
              "        fill: #174EA6;\n",
              "      }\n",
              "\n",
              "      [theme=dark] .colab-df-generate {\n",
              "        background-color: #3B4455;\n",
              "        fill: #D2E3FC;\n",
              "      }\n",
              "\n",
              "      [theme=dark] .colab-df-generate:hover {\n",
              "        background-color: #434B5C;\n",
              "        box-shadow: 0px 1px 3px 1px rgba(0, 0, 0, 0.15);\n",
              "        filter: drop-shadow(0px 1px 2px rgba(0, 0, 0, 0.3));\n",
              "        fill: #FFFFFF;\n",
              "      }\n",
              "    </style>\n",
              "    <button class=\"colab-df-generate\" onclick=\"generateWithVariable('eval_metrics')\"\n",
              "            title=\"Generate code using this dataframe.\"\n",
              "            style=\"display:none;\">\n",
              "\n",
              "  <svg xmlns=\"http://www.w3.org/2000/svg\" height=\"24px\"viewBox=\"0 0 24 24\"\n",
              "       width=\"24px\">\n",
              "    <path d=\"M7,19H8.4L18.45,9,17,7.55,7,17.6ZM5,21V16.75L18.45,3.32a2,2,0,0,1,2.83,0l1.4,1.43a1.91,1.91,0,0,1,.58,1.4,1.91,1.91,0,0,1-.58,1.4L9.25,21ZM18.45,9,17,7.55Zm-12,3A5.31,5.31,0,0,0,4.9,8.1,5.31,5.31,0,0,0,1,6.5,5.31,5.31,0,0,0,4.9,4.9,5.31,5.31,0,0,0,6.5,1,5.31,5.31,0,0,0,8.1,4.9,5.31,5.31,0,0,0,12,6.5,5.46,5.46,0,0,0,6.5,12Z\"/>\n",
              "  </svg>\n",
              "    </button>\n",
              "    <script>\n",
              "      (() => {\n",
              "      const buttonEl =\n",
              "        document.querySelector('#id_837dfc33-1556-4229-8f34-40f42a816ee5 button.colab-df-generate');\n",
              "      buttonEl.style.display =\n",
              "        google.colab.kernel.accessAllowed ? 'block' : 'none';\n",
              "\n",
              "      buttonEl.onclick = () => {\n",
              "        google.colab.notebook.generateWithVariable('eval_metrics');\n",
              "      }\n",
              "      })();\n",
              "    </script>\n",
              "  </div>\n",
              "\n",
              "    </div>\n",
              "  </div>\n"
            ],
            "application/vnd.google.colaboratory.intrinsic+json": {
              "type": "dataframe",
              "variable_name": "eval_metrics",
              "summary": "{\n  \"name\": \"eval_metrics\",\n  \"rows\": 5,\n  \"fields\": [\n    {\n      \"column\": \"Precision\",\n      \"properties\": {\n        \"dtype\": \"number\",\n        \"std\": 0.010783645023831239,\n        \"min\": 0.9359,\n        \"max\": 0.9605,\n        \"num_unique_values\": 4,\n        \"samples\": [\n          0.9487,\n          0.9605,\n          0.96\n        ],\n        \"semantic_type\": \"\",\n        \"description\": \"\"\n      }\n    },\n    {\n      \"column\": \"Recall\",\n      \"properties\": {\n        \"dtype\": \"number\",\n        \"std\": 0.011163467203337891,\n        \"min\": 0.96,\n        \"max\": 0.9867,\n        \"num_unique_values\": 3,\n        \"samples\": [\n          0.96,\n          0.9867,\n          0.9733\n        ],\n        \"semantic_type\": \"\",\n        \"description\": \"\"\n      }\n    },\n    {\n      \"column\": \"F1-Score\",\n      \"properties\": {\n        \"dtype\": \"number\",\n        \"std\": 0.005486984599941936,\n        \"min\": 0.9542,\n        \"max\": 0.9673,\n        \"num_unique_values\": 4,\n        \"samples\": [\n          0.9673,\n          0.9669,\n          0.96\n        ],\n        \"semantic_type\": \"\",\n        \"description\": \"\"\n      }\n    },\n    {\n      \"column\": \"BCE Loss\",\n      \"properties\": {\n        \"dtype\": \"number\",\n        \"std\": 0.050700808672051775,\n        \"min\": 0.1222,\n        \"max\": 0.2462,\n        \"num_unique_values\": 5,\n        \"samples\": [\n          0.15,\n          0.2462,\n          0.1222\n        ],\n        \"semantic_type\": \"\",\n        \"description\": \"\"\n      }\n    }\n  ]\n}"
            }
          },
          "metadata": {}
        }
      ]
    },
    {
      "cell_type": "code",
      "source": [],
      "metadata": {
        "id": "4VMl1PM-Ole-"
      },
      "execution_count": 507,
      "outputs": []
    },
    {
      "cell_type": "code",
      "source": [
        "fig, axes = plt.subplots(2, 2, figsize=(15,9))\n",
        "axes = axes.flatten()\n",
        "\n",
        "for idx, column in enumerate(list(eval_metrics.columns)):\n",
        "  sns.barplot(data=eval_metrics, x=eval_metrics.index, y=column, ax=axes[idx], palette=\"cividis\", hue=eval_metrics.index)\n",
        "  axes[idx].set_xlabel(\"\")\n",
        "  axes[idx].set_title(f\"{column} Comparison\", size=20)\n",
        "  axes[idx].tick_params(rotation=45)\n",
        "\n",
        "plt.tight_layout()\n",
        "plt.show()"
      ],
      "metadata": {
        "colab": {
          "base_uri": "https://localhost:8080/",
          "height": 684
        },
        "id": "Nun58EeNN87V",
        "outputId": "fbc7abcd-d9d0-4a8a-c211-4977a5dab0e6"
      },
      "execution_count": 521,
      "outputs": [
        {
          "output_type": "display_data",
          "data": {
            "text/plain": [
              "<Figure size 1500x900 with 4 Axes>"
            ],
            "image/png": "[encoded data removed]"
          },
          "metadata": {}
        }
      ]
    },
    {
      "cell_type": "code",
      "source": [],
      "metadata": {
        "id": "40O5eyjcOJIF"
      },
      "execution_count": 508,
      "outputs": []
    }
  ]
}